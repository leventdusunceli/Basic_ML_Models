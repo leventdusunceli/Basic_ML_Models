{
  "nbformat": 4,
  "nbformat_minor": 0,
  "metadata": {
    "colab": {
      "name": "VertebralColumnCondition_ClassPredictor.ipynb",
      "provenance": [],
      "collapsed_sections": [
        "WCNt7U0vtRyz",
        "Bedkvvahc_Ko",
        "SvnyJy604f7O"
      ]
    },
    "kernelspec": {
      "name": "python3",
      "display_name": "Python 3"
    },
    "language_info": {
      "name": "python"
    }
  },
  "cells": [
    {
      "cell_type": "markdown",
      "source": [
        "#Vertebral Column Condition Classification "
      ],
      "metadata": {
        "id": "LeoiJ5dPed44"
      }
    },
    {
      "cell_type": "markdown",
      "source": [
        "This study has 2 main aims:\n",
        "1.  To evaluate different machine learning models' performances in predicting vertebral column condition. \n",
        "2. Determine which biomechnical attributes have the most effect on patient's conditions based on the best performing model\n",
        "\n",
        "\n",
        "A classification [dataset](http://archive.ics.uci.edu/ml/datasets/vertebral+column#) from the UCI library was used.  In the dataset, data points are classified in 2 different ways. The first classification distinguishes patient's condition as Normal or Abnormal.  Second classification details abnormal condition and distinguishes the class of patient as either Normal, Disk Hernia or Spondylolisthesis. \n",
        "\n",
        "Each data point contains information on six biomechanical attributes of a single patient; pelvic incidence, pelvic tilt, lumbar lordosis angle, sacral slope, pelvic radius and grade of spondylolisthesis.  \n",
        "\n"
      ],
      "metadata": {
        "id": "hdpMsgU_YMPz"
      }
    },
    {
      "cell_type": "markdown",
      "source": [
        "#Preprocessing\n"
      ],
      "metadata": {
        "id": "UbXzBe4UkATa"
      }
    },
    {
      "cell_type": "code",
      "metadata": {
        "colab": {
          "base_uri": "https://localhost:8080/"
        },
        "id": "460-M6Qh2c5L",
        "outputId": "ff87e153-9252-4fea-fc80-d2ababdf888a"
      },
      "source": [
        "from google.colab import drive\n",
        "drive.mount(\"/content/gdrive\")\n",
        "import numpy as np\n",
        "import matplotlib.pyplot as plt\n",
        "import seaborn as sns\n",
        "import pandas as pd\n",
        "import os \n",
        "os.chdir(\"/content/gdrive/My Drive/Online_Lecture_Notes/vertebra_project/data\")"
      ],
      "execution_count": null,
      "outputs": [
        {
          "output_type": "stream",
          "name": "stdout",
          "text": [
            "Mounted at /content/gdrive\n"
          ]
        }
      ]
    },
    {
      "cell_type": "code",
      "metadata": {
        "id": "Mz3Hy7A22rUb",
        "colab": {
          "base_uri": "https://localhost:8080/",
          "height": 143
        },
        "outputId": "eecbaeb5-87f1-4bcc-f2ec-02b7e2dcbac9"
      },
      "source": [
        "import os \n",
        "os.chdir(\"/content/gdrive/My Drive/Online_Lecture_Notes/vertebra_project/data\")\n",
        "\n",
        "class2 = pd.read_csv(\"2class_data.csv\")\n",
        "class3 = pd.read_csv(\"3class_data.csv\")\n",
        "class3.head(3)"
      ],
      "execution_count": null,
      "outputs": [
        {
          "output_type": "execute_result",
          "data": {
            "text/plain": [
              "   pelvic_incidence  pelvic_tilt  lumbar_lordosis_angle  sacral_slope  \\\n",
              "0         63.027817    22.552586              39.609117     40.475232   \n",
              "1         39.056951    10.060991              25.015378     28.995960   \n",
              "2         68.832021    22.218482              50.092194     46.613539   \n",
              "\n",
              "   pelvic_radius  degree_spondylolisthesis      class  \n",
              "0      98.672917                 -0.254400  b'Hernia'  \n",
              "1     114.405425                  4.564259  b'Hernia'  \n",
              "2     105.985135                 -3.530317  b'Hernia'  "
            ],
            "text/html": [
              "\n",
              "  <div id=\"df-fe5effed-8182-406c-9fd2-37761e69eaa9\">\n",
              "    <div class=\"colab-df-container\">\n",
              "      <div>\n",
              "<style scoped>\n",
              "    .dataframe tbody tr th:only-of-type {\n",
              "        vertical-align: middle;\n",
              "    }\n",
              "\n",
              "    .dataframe tbody tr th {\n",
              "        vertical-align: top;\n",
              "    }\n",
              "\n",
              "    .dataframe thead th {\n",
              "        text-align: right;\n",
              "    }\n",
              "</style>\n",
              "<table border=\"1\" class=\"dataframe\">\n",
              "  <thead>\n",
              "    <tr style=\"text-align: right;\">\n",
              "      <th></th>\n",
              "      <th>pelvic_incidence</th>\n",
              "      <th>pelvic_tilt</th>\n",
              "      <th>lumbar_lordosis_angle</th>\n",
              "      <th>sacral_slope</th>\n",
              "      <th>pelvic_radius</th>\n",
              "      <th>degree_spondylolisthesis</th>\n",
              "      <th>class</th>\n",
              "    </tr>\n",
              "  </thead>\n",
              "  <tbody>\n",
              "    <tr>\n",
              "      <th>0</th>\n",
              "      <td>63.027817</td>\n",
              "      <td>22.552586</td>\n",
              "      <td>39.609117</td>\n",
              "      <td>40.475232</td>\n",
              "      <td>98.672917</td>\n",
              "      <td>-0.254400</td>\n",
              "      <td>b'Hernia'</td>\n",
              "    </tr>\n",
              "    <tr>\n",
              "      <th>1</th>\n",
              "      <td>39.056951</td>\n",
              "      <td>10.060991</td>\n",
              "      <td>25.015378</td>\n",
              "      <td>28.995960</td>\n",
              "      <td>114.405425</td>\n",
              "      <td>4.564259</td>\n",
              "      <td>b'Hernia'</td>\n",
              "    </tr>\n",
              "    <tr>\n",
              "      <th>2</th>\n",
              "      <td>68.832021</td>\n",
              "      <td>22.218482</td>\n",
              "      <td>50.092194</td>\n",
              "      <td>46.613539</td>\n",
              "      <td>105.985135</td>\n",
              "      <td>-3.530317</td>\n",
              "      <td>b'Hernia'</td>\n",
              "    </tr>\n",
              "  </tbody>\n",
              "</table>\n",
              "</div>\n",
              "      <button class=\"colab-df-convert\" onclick=\"convertToInteractive('df-fe5effed-8182-406c-9fd2-37761e69eaa9')\"\n",
              "              title=\"Convert this dataframe to an interactive table.\"\n",
              "              style=\"display:none;\">\n",
              "        \n",
              "  <svg xmlns=\"http://www.w3.org/2000/svg\" height=\"24px\"viewBox=\"0 0 24 24\"\n",
              "       width=\"24px\">\n",
              "    <path d=\"M0 0h24v24H0V0z\" fill=\"none\"/>\n",
              "    <path d=\"M18.56 5.44l.94 2.06.94-2.06 2.06-.94-2.06-.94-.94-2.06-.94 2.06-2.06.94zm-11 1L8.5 8.5l.94-2.06 2.06-.94-2.06-.94L8.5 2.5l-.94 2.06-2.06.94zm10 10l.94 2.06.94-2.06 2.06-.94-2.06-.94-.94-2.06-.94 2.06-2.06.94z\"/><path d=\"M17.41 7.96l-1.37-1.37c-.4-.4-.92-.59-1.43-.59-.52 0-1.04.2-1.43.59L10.3 9.45l-7.72 7.72c-.78.78-.78 2.05 0 2.83L4 21.41c.39.39.9.59 1.41.59.51 0 1.02-.2 1.41-.59l7.78-7.78 2.81-2.81c.8-.78.8-2.07 0-2.86zM5.41 20L4 18.59l7.72-7.72 1.47 1.35L5.41 20z\"/>\n",
              "  </svg>\n",
              "      </button>\n",
              "      \n",
              "  <style>\n",
              "    .colab-df-container {\n",
              "      display:flex;\n",
              "      flex-wrap:wrap;\n",
              "      gap: 12px;\n",
              "    }\n",
              "\n",
              "    .colab-df-convert {\n",
              "      background-color: #E8F0FE;\n",
              "      border: none;\n",
              "      border-radius: 50%;\n",
              "      cursor: pointer;\n",
              "      display: none;\n",
              "      fill: #1967D2;\n",
              "      height: 32px;\n",
              "      padding: 0 0 0 0;\n",
              "      width: 32px;\n",
              "    }\n",
              "\n",
              "    .colab-df-convert:hover {\n",
              "      background-color: #E2EBFA;\n",
              "      box-shadow: 0px 1px 2px rgba(60, 64, 67, 0.3), 0px 1px 3px 1px rgba(60, 64, 67, 0.15);\n",
              "      fill: #174EA6;\n",
              "    }\n",
              "\n",
              "    [theme=dark] .colab-df-convert {\n",
              "      background-color: #3B4455;\n",
              "      fill: #D2E3FC;\n",
              "    }\n",
              "\n",
              "    [theme=dark] .colab-df-convert:hover {\n",
              "      background-color: #434B5C;\n",
              "      box-shadow: 0px 1px 3px 1px rgba(0, 0, 0, 0.15);\n",
              "      filter: drop-shadow(0px 1px 2px rgba(0, 0, 0, 0.3));\n",
              "      fill: #FFFFFF;\n",
              "    }\n",
              "  </style>\n",
              "\n",
              "      <script>\n",
              "        const buttonEl =\n",
              "          document.querySelector('#df-fe5effed-8182-406c-9fd2-37761e69eaa9 button.colab-df-convert');\n",
              "        buttonEl.style.display =\n",
              "          google.colab.kernel.accessAllowed ? 'block' : 'none';\n",
              "\n",
              "        async function convertToInteractive(key) {\n",
              "          const element = document.querySelector('#df-fe5effed-8182-406c-9fd2-37761e69eaa9');\n",
              "          const dataTable =\n",
              "            await google.colab.kernel.invokeFunction('convertToInteractive',\n",
              "                                                     [key], {});\n",
              "          if (!dataTable) return;\n",
              "\n",
              "          const docLinkHtml = 'Like what you see? Visit the ' +\n",
              "            '<a target=\"_blank\" href=https://colab.research.google.com/notebooks/data_table.ipynb>data table notebook</a>'\n",
              "            + ' to learn more about interactive tables.';\n",
              "          element.innerHTML = '';\n",
              "          dataTable['output_type'] = 'display_data';\n",
              "          await google.colab.output.renderOutput(dataTable, element);\n",
              "          const docLink = document.createElement('div');\n",
              "          docLink.innerHTML = docLinkHtml;\n",
              "          element.appendChild(docLink);\n",
              "        }\n",
              "      </script>\n",
              "    </div>\n",
              "  </div>\n",
              "  "
            ]
          },
          "metadata": {},
          "execution_count": 2
        }
      ]
    },
    {
      "cell_type": "markdown",
      "source": [
        "###Creating Matrix of Features and Dependent Variable Vectors\n",
        "\n",
        "We'll just encode the 2 class data because the models we use don't require any encoding for the 3 class data \n",
        "\n",
        "We'll use LabelEncoder to encode Class column of 2 class dataset."
      ],
      "metadata": {
        "id": "ma-rFdbFk0NO"
      }
    },
    {
      "cell_type": "code",
      "source": [
        "x_2class = class2.iloc[:,:-1].values\n",
        "y_2class = class2.iloc[:,-1].values\n",
        "\n",
        "x_3class = class3.iloc[:,:-1].values\n",
        "y_3class = class3.iloc[:,-1:].values\n",
        "\n",
        "#Encoding 2 Class data\n",
        "from sklearn.preprocessing import LabelEncoder\n",
        "le = LabelEncoder()\n",
        "y_2class=le.fit_transform(y_2class)\n",
        "\n",
        "#Encoding 3 Class data\n",
        "from sklearn.preprocessing import OneHotEncoder\n",
        "ohe = OneHotEncoder(categories=\"auto\")\n",
        "y_3class_ohencoded = ohe.fit_transform(y_3class).toarray()"
      ],
      "metadata": {
        "id": "2y8sc8JvaWKI"
      },
      "execution_count": null,
      "outputs": []
    },
    {
      "cell_type": "markdown",
      "source": [
        "###Splitting Dataset into Training and Test Sets"
      ],
      "metadata": {
        "id": "0zOiIsktncvn"
      }
    },
    {
      "cell_type": "code",
      "source": [
        "from sklearn.model_selection import train_test_split\n",
        "\n",
        "x2c_train,x2c_test,y2c_train,y2c_test = train_test_split(x_2class,y_2class,test_size=0.2,random_state=1)\n",
        "x3c_train,x3c_test,y3c_train,y3c_test = train_test_split(x_3class,y_3class,test_size=0.2,random_state=1)"
      ],
      "metadata": {
        "id": "VVp6fYZQnVYV"
      },
      "execution_count": null,
      "outputs": []
    },
    {
      "cell_type": "markdown",
      "source": [
        "###Feature Scaling"
      ],
      "metadata": {
        "id": "JBfxgqnIn26d"
      }
    },
    {
      "cell_type": "code",
      "source": [
        "from sklearn.preprocessing import StandardScaler\n",
        "sc_2class = StandardScaler()\n",
        "x2c_train = sc_2class.fit_transform(x2c_train)\n",
        "x2c_test = sc_2class.transform(x2c_test)"
      ],
      "metadata": {
        "id": "vEcpq1Ern2YV"
      },
      "execution_count": null,
      "outputs": []
    },
    {
      "cell_type": "code",
      "source": [
        "sc_3class = StandardScaler()\n",
        "x3c_train = sc_3class.fit_transform(x3c_train)\n",
        "x3c_test = sc_3class.transform(x3c_test)"
      ],
      "metadata": {
        "id": "Pq1-K3zAnN8X"
      },
      "execution_count": null,
      "outputs": []
    },
    {
      "cell_type": "markdown",
      "source": [
        "#Model Building \n",
        "\n",
        "Due to the fact that we don't have any information on whether the dataset is linear or nonlinear we'll build 6 different models using different methods and evaluate their performance at the end. \n",
        "\n",
        "Model Methods:\n",
        "\n",
        "\n",
        "*   Logistic Regression \n",
        "*   K-Nearest Neighbors \n",
        "* Support Vector Machines \n",
        "* Naive Bayes \n",
        "* Decision Tree\n",
        "* Random Forest \n",
        "\n"
      ],
      "metadata": {
        "id": "Pc55IPQOBOPj"
      }
    },
    {
      "cell_type": "markdown",
      "source": [
        "##Logistic Regression \n",
        "\n",
        "For 2 class data we'll perform regular logistic regression however 3 class data requires multinomial logistic regression. "
      ],
      "metadata": {
        "id": "WCNt7U0vtRyz"
      }
    },
    {
      "cell_type": "code",
      "source": [
        "from sklearn.linear_model import LogisticRegression\n",
        "classifier_2class = LogisticRegression()\n",
        "classifier_3class= LogisticRegression(multi_class = \"multinomial\",penalty='none', solver='newton-cg',random_state=44)\n",
        "\n",
        "#note that we didn't input OneHotEncoded version of dependent variable to 3 class multinomial regression model\n",
        "classifier_2class.fit(x2c_train,y2c_train)\n",
        "classifier_3class.fit(x3c_train,y3c_train)\n",
        "\n",
        "logreg_pred_2class = classifier_2class.predict(x2c_test)\n",
        "logreg_pred_3class = classifier_3class.predict(x3c_test)\n",
        "\n",
        "\n",
        "from sklearn.metrics import confusion_matrix,accuracy_score\n",
        "from sklearn.model_selection import cross_val_score\n",
        "accuracy_2class= cross_val_score(classifier_2class,x2c_test,y2c_test,cv=10 )\n",
        "accuracy_3class=cross_val_score(classifier_3class,x3c_test,y3c_test,cv=10)\n"
      ],
      "metadata": {
        "id": "47926fpotRUx",
        "colab": {
          "base_uri": "https://localhost:8080/"
        },
        "outputId": "f26c6b52-df53-4e16-ebf2-ac1b8fe5a323"
      },
      "execution_count": null,
      "outputs": [
        {
          "output_type": "stream",
          "name": "stderr",
          "text": [
            "/usr/local/lib/python3.7/dist-packages/sklearn/utils/validation.py:993: DataConversionWarning: A column-vector y was passed when a 1d array was expected. Please change the shape of y to (n_samples, ), for example using ravel().\n",
            "  y = column_or_1d(y, warn=True)\n",
            "/usr/local/lib/python3.7/dist-packages/sklearn/utils/validation.py:993: DataConversionWarning: A column-vector y was passed when a 1d array was expected. Please change the shape of y to (n_samples, ), for example using ravel().\n",
            "  y = column_or_1d(y, warn=True)\n",
            "/usr/local/lib/python3.7/dist-packages/sklearn/utils/validation.py:993: DataConversionWarning: A column-vector y was passed when a 1d array was expected. Please change the shape of y to (n_samples, ), for example using ravel().\n",
            "  y = column_or_1d(y, warn=True)\n",
            "/usr/local/lib/python3.7/dist-packages/sklearn/utils/validation.py:993: DataConversionWarning: A column-vector y was passed when a 1d array was expected. Please change the shape of y to (n_samples, ), for example using ravel().\n",
            "  y = column_or_1d(y, warn=True)\n",
            "/usr/local/lib/python3.7/dist-packages/sklearn/utils/validation.py:993: DataConversionWarning: A column-vector y was passed when a 1d array was expected. Please change the shape of y to (n_samples, ), for example using ravel().\n",
            "  y = column_or_1d(y, warn=True)\n",
            "/usr/local/lib/python3.7/dist-packages/sklearn/utils/validation.py:993: DataConversionWarning: A column-vector y was passed when a 1d array was expected. Please change the shape of y to (n_samples, ), for example using ravel().\n",
            "  y = column_or_1d(y, warn=True)\n",
            "/usr/local/lib/python3.7/dist-packages/sklearn/utils/validation.py:993: DataConversionWarning: A column-vector y was passed when a 1d array was expected. Please change the shape of y to (n_samples, ), for example using ravel().\n",
            "  y = column_or_1d(y, warn=True)\n",
            "/usr/local/lib/python3.7/dist-packages/sklearn/utils/validation.py:993: DataConversionWarning: A column-vector y was passed when a 1d array was expected. Please change the shape of y to (n_samples, ), for example using ravel().\n",
            "  y = column_or_1d(y, warn=True)\n",
            "/usr/local/lib/python3.7/dist-packages/sklearn/utils/validation.py:993: DataConversionWarning: A column-vector y was passed when a 1d array was expected. Please change the shape of y to (n_samples, ), for example using ravel().\n",
            "  y = column_or_1d(y, warn=True)\n",
            "/usr/local/lib/python3.7/dist-packages/sklearn/utils/validation.py:993: DataConversionWarning: A column-vector y was passed when a 1d array was expected. Please change the shape of y to (n_samples, ), for example using ravel().\n",
            "  y = column_or_1d(y, warn=True)\n",
            "/usr/local/lib/python3.7/dist-packages/sklearn/utils/validation.py:993: DataConversionWarning: A column-vector y was passed when a 1d array was expected. Please change the shape of y to (n_samples, ), for example using ravel().\n",
            "  y = column_or_1d(y, warn=True)\n"
          ]
        }
      ]
    },
    {
      "cell_type": "code",
      "source": [
        "print( \"2 Class Model Accuracy: %0.3f (+/- %0.3f)\" %(accuracy_2class.mean(),accuracy_2class.std()),\n",
        "      \"\\n\", \"3 Class Model Accuracy: %0.3f (+/-%0.3f)\" %(accuracy_3class.mean(),accuracy_3class.std()))"
      ],
      "metadata": {
        "colab": {
          "base_uri": "https://localhost:8080/"
        },
        "id": "Z27RCodLkBtD",
        "outputId": "3502b92b-898c-40e5-f74d-0c0d86d8327e"
      },
      "execution_count": null,
      "outputs": [
        {
          "output_type": "stream",
          "name": "stdout",
          "text": [
            "2 Class Model Accuracy: 0.790 (+/- 0.104) \n",
            " 3 Class Model Accuracy: 0.745 (+/-0.191)\n"
          ]
        }
      ]
    },
    {
      "cell_type": "markdown",
      "source": [
        "Both models have below 75% accuracy with significant standard deviation, let's also see how they perform in individual predictions. \n",
        "\n",
        "We'll predict values close to the first index of the dataset. "
      ],
      "metadata": {
        "id": "6NB8GZRhT6rm"
      }
    },
    {
      "cell_type": "code",
      "source": [
        "class3.head(2)"
      ],
      "metadata": {
        "colab": {
          "base_uri": "https://localhost:8080/"
        },
        "id": "4FV0O8nIcLHD",
        "outputId": "f58fede3-252b-4d70-c235-b87eeb9cafd5"
      },
      "execution_count": null,
      "outputs": [
        {
          "output_type": "execute_result",
          "data": {
            "text/plain": [
              "   pelvic_incidence  pelvic_tilt  lumbar_lordosis_angle  sacral_slope  \\\n",
              "0         63.027817    22.552586              39.609117     40.475232   \n",
              "1         39.056951    10.060991              25.015378     28.995960   \n",
              "\n",
              "   pelvic_radius  degree_spondylolisthesis      class  \n",
              "0      98.672917                 -0.254400  b'Hernia'  \n",
              "1     114.405425                  4.564259  b'Hernia'  "
            ],
            "text/html": [
              "\n",
              "  <div id=\"df-5dff9546-e4f1-46f9-a801-8baaab1991a7\">\n",
              "    <div class=\"colab-df-container\">\n",
              "      <div>\n",
              "<style scoped>\n",
              "    .dataframe tbody tr th:only-of-type {\n",
              "        vertical-align: middle;\n",
              "    }\n",
              "\n",
              "    .dataframe tbody tr th {\n",
              "        vertical-align: top;\n",
              "    }\n",
              "\n",
              "    .dataframe thead th {\n",
              "        text-align: right;\n",
              "    }\n",
              "</style>\n",
              "<table border=\"1\" class=\"dataframe\">\n",
              "  <thead>\n",
              "    <tr style=\"text-align: right;\">\n",
              "      <th></th>\n",
              "      <th>pelvic_incidence</th>\n",
              "      <th>pelvic_tilt</th>\n",
              "      <th>lumbar_lordosis_angle</th>\n",
              "      <th>sacral_slope</th>\n",
              "      <th>pelvic_radius</th>\n",
              "      <th>degree_spondylolisthesis</th>\n",
              "      <th>class</th>\n",
              "    </tr>\n",
              "  </thead>\n",
              "  <tbody>\n",
              "    <tr>\n",
              "      <th>0</th>\n",
              "      <td>63.027817</td>\n",
              "      <td>22.552586</td>\n",
              "      <td>39.609117</td>\n",
              "      <td>40.475232</td>\n",
              "      <td>98.672917</td>\n",
              "      <td>-0.254400</td>\n",
              "      <td>b'Hernia'</td>\n",
              "    </tr>\n",
              "    <tr>\n",
              "      <th>1</th>\n",
              "      <td>39.056951</td>\n",
              "      <td>10.060991</td>\n",
              "      <td>25.015378</td>\n",
              "      <td>28.995960</td>\n",
              "      <td>114.405425</td>\n",
              "      <td>4.564259</td>\n",
              "      <td>b'Hernia'</td>\n",
              "    </tr>\n",
              "  </tbody>\n",
              "</table>\n",
              "</div>\n",
              "      <button class=\"colab-df-convert\" onclick=\"convertToInteractive('df-5dff9546-e4f1-46f9-a801-8baaab1991a7')\"\n",
              "              title=\"Convert this dataframe to an interactive table.\"\n",
              "              style=\"display:none;\">\n",
              "        \n",
              "  <svg xmlns=\"http://www.w3.org/2000/svg\" height=\"24px\"viewBox=\"0 0 24 24\"\n",
              "       width=\"24px\">\n",
              "    <path d=\"M0 0h24v24H0V0z\" fill=\"none\"/>\n",
              "    <path d=\"M18.56 5.44l.94 2.06.94-2.06 2.06-.94-2.06-.94-.94-2.06-.94 2.06-2.06.94zm-11 1L8.5 8.5l.94-2.06 2.06-.94-2.06-.94L8.5 2.5l-.94 2.06-2.06.94zm10 10l.94 2.06.94-2.06 2.06-.94-2.06-.94-.94-2.06-.94 2.06-2.06.94z\"/><path d=\"M17.41 7.96l-1.37-1.37c-.4-.4-.92-.59-1.43-.59-.52 0-1.04.2-1.43.59L10.3 9.45l-7.72 7.72c-.78.78-.78 2.05 0 2.83L4 21.41c.39.39.9.59 1.41.59.51 0 1.02-.2 1.41-.59l7.78-7.78 2.81-2.81c.8-.78.8-2.07 0-2.86zM5.41 20L4 18.59l7.72-7.72 1.47 1.35L5.41 20z\"/>\n",
              "  </svg>\n",
              "      </button>\n",
              "      \n",
              "  <style>\n",
              "    .colab-df-container {\n",
              "      display:flex;\n",
              "      flex-wrap:wrap;\n",
              "      gap: 12px;\n",
              "    }\n",
              "\n",
              "    .colab-df-convert {\n",
              "      background-color: #E8F0FE;\n",
              "      border: none;\n",
              "      border-radius: 50%;\n",
              "      cursor: pointer;\n",
              "      display: none;\n",
              "      fill: #1967D2;\n",
              "      height: 32px;\n",
              "      padding: 0 0 0 0;\n",
              "      width: 32px;\n",
              "    }\n",
              "\n",
              "    .colab-df-convert:hover {\n",
              "      background-color: #E2EBFA;\n",
              "      box-shadow: 0px 1px 2px rgba(60, 64, 67, 0.3), 0px 1px 3px 1px rgba(60, 64, 67, 0.15);\n",
              "      fill: #174EA6;\n",
              "    }\n",
              "\n",
              "    [theme=dark] .colab-df-convert {\n",
              "      background-color: #3B4455;\n",
              "      fill: #D2E3FC;\n",
              "    }\n",
              "\n",
              "    [theme=dark] .colab-df-convert:hover {\n",
              "      background-color: #434B5C;\n",
              "      box-shadow: 0px 1px 3px 1px rgba(0, 0, 0, 0.15);\n",
              "      filter: drop-shadow(0px 1px 2px rgba(0, 0, 0, 0.3));\n",
              "      fill: #FFFFFF;\n",
              "    }\n",
              "  </style>\n",
              "\n",
              "      <script>\n",
              "        const buttonEl =\n",
              "          document.querySelector('#df-5dff9546-e4f1-46f9-a801-8baaab1991a7 button.colab-df-convert');\n",
              "        buttonEl.style.display =\n",
              "          google.colab.kernel.accessAllowed ? 'block' : 'none';\n",
              "\n",
              "        async function convertToInteractive(key) {\n",
              "          const element = document.querySelector('#df-5dff9546-e4f1-46f9-a801-8baaab1991a7');\n",
              "          const dataTable =\n",
              "            await google.colab.kernel.invokeFunction('convertToInteractive',\n",
              "                                                     [key], {});\n",
              "          if (!dataTable) return;\n",
              "\n",
              "          const docLinkHtml = 'Like what you see? Visit the ' +\n",
              "            '<a target=\"_blank\" href=https://colab.research.google.com/notebooks/data_table.ipynb>data table notebook</a>'\n",
              "            + ' to learn more about interactive tables.';\n",
              "          element.innerHTML = '';\n",
              "          dataTable['output_type'] = 'display_data';\n",
              "          await google.colab.output.renderOutput(dataTable, element);\n",
              "          const docLink = document.createElement('div');\n",
              "          docLink.innerHTML = docLinkHtml;\n",
              "          element.appendChild(docLink);\n",
              "        }\n",
              "      </script>\n",
              "    </div>\n",
              "  </div>\n",
              "  "
            ]
          },
          "metadata": {},
          "execution_count": 9
        }
      ]
    },
    {
      "cell_type": "code",
      "source": [
        "#we expect the model to predict abnormal (0) and Hernia \n",
        "\n",
        "print(classifier_2class.predict(sc_2class.transform([[63.2,22,40,40,98,-0.25]])),classifier_3class.predict(sc_3class.transform([[63.2,22,40,40,98,-0.25]])))"
      ],
      "metadata": {
        "id": "Dr-rf1tXtKFR",
        "colab": {
          "base_uri": "https://localhost:8080/"
        },
        "outputId": "6128afdd-3378-4014-b695-29e37a9c2418"
      },
      "execution_count": null,
      "outputs": [
        {
          "output_type": "stream",
          "name": "stdout",
          "text": [
            "[0] [\"b'Hernia'\"]\n"
          ]
        }
      ]
    },
    {
      "cell_type": "markdown",
      "source": [
        "##K-Nearest Neighbors "
      ],
      "metadata": {
        "id": "Bedkvvahc_Ko"
      }
    },
    {
      "cell_type": "code",
      "source": [
        "from sklearn.neighbors import KNeighborsClassifier \n",
        "knn_classifier_2class = KNeighborsClassifier(n_neighbors=18)\n",
        "knn_classifier_3class = KNeighborsClassifier(n_neighbors=18)\n",
        "\n",
        "knn_classifier_2class.fit(x2c_train,y2c_train)\n",
        "knn_classifier_3class.fit(x3c_train,y3c_train)\n",
        "\n",
        "from sklearn.model_selection import cross_val_score \n",
        "knn_accuracy_2class= cross_val_score(knn_classifier_2class,x2c_test,y2c_test,cv=10 )\n",
        "knn_accuracy_3class=cross_val_score(knn_classifier_3class,x3c_test,y3c_test,cv=10)"
      ],
      "metadata": {
        "id": "p_PfvgXkc-27",
        "colab": {
          "base_uri": "https://localhost:8080/"
        },
        "outputId": "86a7013e-3984-4a6a-ac4a-872ce3a46b13"
      },
      "execution_count": null,
      "outputs": [
        {
          "output_type": "stream",
          "name": "stderr",
          "text": [
            "/usr/local/lib/python3.7/dist-packages/sklearn/neighbors/_classification.py:198: DataConversionWarning: A column-vector y was passed when a 1d array was expected. Please change the shape of y to (n_samples,), for example using ravel().\n",
            "  return self._fit(X, y)\n",
            "/usr/local/lib/python3.7/dist-packages/sklearn/neighbors/_classification.py:198: DataConversionWarning: A column-vector y was passed when a 1d array was expected. Please change the shape of y to (n_samples,), for example using ravel().\n",
            "  return self._fit(X, y)\n",
            "/usr/local/lib/python3.7/dist-packages/sklearn/neighbors/_classification.py:198: DataConversionWarning: A column-vector y was passed when a 1d array was expected. Please change the shape of y to (n_samples,), for example using ravel().\n",
            "  return self._fit(X, y)\n",
            "/usr/local/lib/python3.7/dist-packages/sklearn/neighbors/_classification.py:198: DataConversionWarning: A column-vector y was passed when a 1d array was expected. Please change the shape of y to (n_samples,), for example using ravel().\n",
            "  return self._fit(X, y)\n",
            "/usr/local/lib/python3.7/dist-packages/sklearn/neighbors/_classification.py:198: DataConversionWarning: A column-vector y was passed when a 1d array was expected. Please change the shape of y to (n_samples,), for example using ravel().\n",
            "  return self._fit(X, y)\n",
            "/usr/local/lib/python3.7/dist-packages/sklearn/neighbors/_classification.py:198: DataConversionWarning: A column-vector y was passed when a 1d array was expected. Please change the shape of y to (n_samples,), for example using ravel().\n",
            "  return self._fit(X, y)\n",
            "/usr/local/lib/python3.7/dist-packages/sklearn/neighbors/_classification.py:198: DataConversionWarning: A column-vector y was passed when a 1d array was expected. Please change the shape of y to (n_samples,), for example using ravel().\n",
            "  return self._fit(X, y)\n",
            "/usr/local/lib/python3.7/dist-packages/sklearn/neighbors/_classification.py:198: DataConversionWarning: A column-vector y was passed when a 1d array was expected. Please change the shape of y to (n_samples,), for example using ravel().\n",
            "  return self._fit(X, y)\n",
            "/usr/local/lib/python3.7/dist-packages/sklearn/neighbors/_classification.py:198: DataConversionWarning: A column-vector y was passed when a 1d array was expected. Please change the shape of y to (n_samples,), for example using ravel().\n",
            "  return self._fit(X, y)\n",
            "/usr/local/lib/python3.7/dist-packages/sklearn/neighbors/_classification.py:198: DataConversionWarning: A column-vector y was passed when a 1d array was expected. Please change the shape of y to (n_samples,), for example using ravel().\n",
            "  return self._fit(X, y)\n",
            "/usr/local/lib/python3.7/dist-packages/sklearn/neighbors/_classification.py:198: DataConversionWarning: A column-vector y was passed when a 1d array was expected. Please change the shape of y to (n_samples,), for example using ravel().\n",
            "  return self._fit(X, y)\n"
          ]
        }
      ]
    },
    {
      "cell_type": "code",
      "source": [
        "print( \"2 Class Model Accuracy: %0.2f (+/- %0.2f)\" %(knn_accuracy_2class.mean(),knn_accuracy_2class.std()),\n",
        "      \"\\n\", \"3 Class Model Accuracy: %0.2f (+/-%0.2f)\" %(knn_accuracy_3class.mean(),knn_accuracy_3class.std()))"
      ],
      "metadata": {
        "id": "jp8_TTTyMDAR",
        "colab": {
          "base_uri": "https://localhost:8080/"
        },
        "outputId": "fecd7e01-461a-4d22-9e2e-3c73d8de0c5f"
      },
      "execution_count": null,
      "outputs": [
        {
          "output_type": "stream",
          "name": "stdout",
          "text": [
            "2 Class Model Accuracy: 0.71 (+/- 0.19) \n",
            " 3 Class Model Accuracy: 0.63 (+/-0.14)\n"
          ]
        }
      ]
    },
    {
      "cell_type": "markdown",
      "source": [
        "KNN had a worse fitting model compared to Logistic Regression, let's have a look at an individual case. "
      ],
      "metadata": {
        "id": "P7qHi9KVp8TF"
      }
    },
    {
      "cell_type": "code",
      "source": [
        "print(knn_classifier_2class.predict(sc_2class.transform([[63.2,22,40,40,98,-0.25]])),\n",
        "      knn_classifier_3class.predict(sc_3class.transform([[63.2,22,40,40,98,-0.25]])))\n"
      ],
      "metadata": {
        "colab": {
          "base_uri": "https://localhost:8080/"
        },
        "id": "n8vqCxt4mDxS",
        "outputId": "276f627d-6eb6-4c37-892a-8cf0c775a234"
      },
      "execution_count": null,
      "outputs": [
        {
          "output_type": "stream",
          "name": "stdout",
          "text": [
            "[0] [\"b'Hernia'\"]\n"
          ]
        }
      ]
    },
    {
      "cell_type": "markdown",
      "source": [
        "##Support Vector Machine "
      ],
      "metadata": {
        "id": "SvnyJy604f7O"
      }
    },
    {
      "cell_type": "code",
      "source": [
        "from sklearn.svm import SVC\n",
        "svm_2c_linear =SVC( kernel=\"linear\")\n",
        "svm_2c_nonlin = SVC(kernel=\"rbf\")\n",
        "\n",
        "svm_3c_lin = SVC (kernel=\"linear\")\n",
        "svm_3c_nonlin = SVC(kernel=\"rbf\")\n",
        "\n",
        "svm_2c_linear.fit(x2c_train,y2c_train)\n",
        "svm_2c_nonlin.fit(x2c_train,y2c_train)\n",
        "svm_3c_lin.fit(x3c_train,y3c_train)\n",
        "svm_3c_nonlin.fit(x3c_train,y3c_train)\n",
        "\n",
        "from sklearn.model_selection import cross_val_score\n",
        "lin_2c = cross_val_score(svm_2c_linear,x2c_test,y2c_test,cv=10)\n",
        "nonlin_2c = cross_val_score(svm_2c_nonlin,x2c_test,y2c_test,cv=10)\n",
        "lin_3c = cross_val_score(svm_3c_lin,x3c_test,y3c_test,cv=10)\n",
        "nonlin_3c = cross_val_score(svm_3c_nonlin,x3c_test,y3c_test,cv=10)"
      ],
      "metadata": {
        "id": "NZsQpMqumbpX",
        "colab": {
          "base_uri": "https://localhost:8080/"
        },
        "outputId": "4e350f2d-f9d6-4e8e-f9e9-fa78657ff39e"
      },
      "execution_count": null,
      "outputs": [
        {
          "output_type": "stream",
          "name": "stderr",
          "text": [
            "/usr/local/lib/python3.7/dist-packages/sklearn/utils/validation.py:993: DataConversionWarning: A column-vector y was passed when a 1d array was expected. Please change the shape of y to (n_samples, ), for example using ravel().\n",
            "  y = column_or_1d(y, warn=True)\n",
            "/usr/local/lib/python3.7/dist-packages/sklearn/utils/validation.py:993: DataConversionWarning: A column-vector y was passed when a 1d array was expected. Please change the shape of y to (n_samples, ), for example using ravel().\n",
            "  y = column_or_1d(y, warn=True)\n",
            "/usr/local/lib/python3.7/dist-packages/sklearn/utils/validation.py:993: DataConversionWarning: A column-vector y was passed when a 1d array was expected. Please change the shape of y to (n_samples, ), for example using ravel().\n",
            "  y = column_or_1d(y, warn=True)\n",
            "/usr/local/lib/python3.7/dist-packages/sklearn/utils/validation.py:993: DataConversionWarning: A column-vector y was passed when a 1d array was expected. Please change the shape of y to (n_samples, ), for example using ravel().\n",
            "  y = column_or_1d(y, warn=True)\n",
            "/usr/local/lib/python3.7/dist-packages/sklearn/utils/validation.py:993: DataConversionWarning: A column-vector y was passed when a 1d array was expected. Please change the shape of y to (n_samples, ), for example using ravel().\n",
            "  y = column_or_1d(y, warn=True)\n",
            "/usr/local/lib/python3.7/dist-packages/sklearn/utils/validation.py:993: DataConversionWarning: A column-vector y was passed when a 1d array was expected. Please change the shape of y to (n_samples, ), for example using ravel().\n",
            "  y = column_or_1d(y, warn=True)\n",
            "/usr/local/lib/python3.7/dist-packages/sklearn/utils/validation.py:993: DataConversionWarning: A column-vector y was passed when a 1d array was expected. Please change the shape of y to (n_samples, ), for example using ravel().\n",
            "  y = column_or_1d(y, warn=True)\n",
            "/usr/local/lib/python3.7/dist-packages/sklearn/utils/validation.py:993: DataConversionWarning: A column-vector y was passed when a 1d array was expected. Please change the shape of y to (n_samples, ), for example using ravel().\n",
            "  y = column_or_1d(y, warn=True)\n",
            "/usr/local/lib/python3.7/dist-packages/sklearn/utils/validation.py:993: DataConversionWarning: A column-vector y was passed when a 1d array was expected. Please change the shape of y to (n_samples, ), for example using ravel().\n",
            "  y = column_or_1d(y, warn=True)\n",
            "/usr/local/lib/python3.7/dist-packages/sklearn/utils/validation.py:993: DataConversionWarning: A column-vector y was passed when a 1d array was expected. Please change the shape of y to (n_samples, ), for example using ravel().\n",
            "  y = column_or_1d(y, warn=True)\n",
            "/usr/local/lib/python3.7/dist-packages/sklearn/utils/validation.py:993: DataConversionWarning: A column-vector y was passed when a 1d array was expected. Please change the shape of y to (n_samples, ), for example using ravel().\n",
            "  y = column_or_1d(y, warn=True)\n",
            "/usr/local/lib/python3.7/dist-packages/sklearn/utils/validation.py:993: DataConversionWarning: A column-vector y was passed when a 1d array was expected. Please change the shape of y to (n_samples, ), for example using ravel().\n",
            "  y = column_or_1d(y, warn=True)\n",
            "/usr/local/lib/python3.7/dist-packages/sklearn/utils/validation.py:993: DataConversionWarning: A column-vector y was passed when a 1d array was expected. Please change the shape of y to (n_samples, ), for example using ravel().\n",
            "  y = column_or_1d(y, warn=True)\n",
            "/usr/local/lib/python3.7/dist-packages/sklearn/utils/validation.py:993: DataConversionWarning: A column-vector y was passed when a 1d array was expected. Please change the shape of y to (n_samples, ), for example using ravel().\n",
            "  y = column_or_1d(y, warn=True)\n",
            "/usr/local/lib/python3.7/dist-packages/sklearn/utils/validation.py:993: DataConversionWarning: A column-vector y was passed when a 1d array was expected. Please change the shape of y to (n_samples, ), for example using ravel().\n",
            "  y = column_or_1d(y, warn=True)\n",
            "/usr/local/lib/python3.7/dist-packages/sklearn/utils/validation.py:993: DataConversionWarning: A column-vector y was passed when a 1d array was expected. Please change the shape of y to (n_samples, ), for example using ravel().\n",
            "  y = column_or_1d(y, warn=True)\n",
            "/usr/local/lib/python3.7/dist-packages/sklearn/utils/validation.py:993: DataConversionWarning: A column-vector y was passed when a 1d array was expected. Please change the shape of y to (n_samples, ), for example using ravel().\n",
            "  y = column_or_1d(y, warn=True)\n",
            "/usr/local/lib/python3.7/dist-packages/sklearn/utils/validation.py:993: DataConversionWarning: A column-vector y was passed when a 1d array was expected. Please change the shape of y to (n_samples, ), for example using ravel().\n",
            "  y = column_or_1d(y, warn=True)\n",
            "/usr/local/lib/python3.7/dist-packages/sklearn/utils/validation.py:993: DataConversionWarning: A column-vector y was passed when a 1d array was expected. Please change the shape of y to (n_samples, ), for example using ravel().\n",
            "  y = column_or_1d(y, warn=True)\n",
            "/usr/local/lib/python3.7/dist-packages/sklearn/utils/validation.py:993: DataConversionWarning: A column-vector y was passed when a 1d array was expected. Please change the shape of y to (n_samples, ), for example using ravel().\n",
            "  y = column_or_1d(y, warn=True)\n",
            "/usr/local/lib/python3.7/dist-packages/sklearn/utils/validation.py:993: DataConversionWarning: A column-vector y was passed when a 1d array was expected. Please change the shape of y to (n_samples, ), for example using ravel().\n",
            "  y = column_or_1d(y, warn=True)\n",
            "/usr/local/lib/python3.7/dist-packages/sklearn/utils/validation.py:993: DataConversionWarning: A column-vector y was passed when a 1d array was expected. Please change the shape of y to (n_samples, ), for example using ravel().\n",
            "  y = column_or_1d(y, warn=True)\n"
          ]
        }
      ]
    },
    {
      "cell_type": "code",
      "source": [
        "print( \"2 class linear kernel accuracy: %0.2f (+/- %0.2f)\"%(lin_2c.mean(),lin_2c.std()),\"\\n\",\n",
        "      \"2 class non-linear kernel accuracy: %0.2f (+/- %0.2f)\"%(nonlin_2c.mean(),nonlin_2c.std()),\"\\n\",\n",
        "      \"3 class linear kernel accuracy: %0.2f (+/- %0.2f)\"%(lin_3c.mean(),lin_3c.std()),\"\\n\",\n",
        "      \"3 class non-linear kernel accuracy: %0.2f (+/- %0.2f)\"%(nonlin_3c.mean(),nonlin_3c.std()))"
      ],
      "metadata": {
        "colab": {
          "base_uri": "https://localhost:8080/"
        },
        "id": "jWmfRHuj8X_c",
        "outputId": "8abc1c1a-0a4a-47e3-db48-785d65e72d50"
      },
      "execution_count": null,
      "outputs": [
        {
          "output_type": "stream",
          "name": "stdout",
          "text": [
            "2 class linear kernel accuracy: 0.84 (+/- 0.08) \n",
            " 2 class non-linear kernel accuracy: 0.81 (+/- 0.16) \n",
            " 3 class linear kernel accuracy: 0.77 (+/- 0.13) \n",
            " 3 class non-linear kernel accuracy: 0.71 (+/- 0.14)\n"
          ]
        }
      ]
    },
    {
      "cell_type": "markdown",
      "source": [
        "Linear SVM model produced the most accurate model so far. "
      ],
      "metadata": {
        "id": "bkmwZQYF93f4"
      }
    },
    {
      "cell_type": "code",
      "source": [
        "print(svm_2c_linear.predict(sc_2class.transform([[63.2,22,40,40,98,-0.25]])),\n",
        "      svm_3c_lin.predict(sc_3class.transform([[20,55,10,40,98,-0.25]])))"
      ],
      "metadata": {
        "colab": {
          "base_uri": "https://localhost:8080/"
        },
        "id": "ImN8--FW8doJ",
        "outputId": "652af7a0-d134-413d-f75f-c937fd5b00a3"
      },
      "execution_count": null,
      "outputs": [
        {
          "output_type": "stream",
          "name": "stdout",
          "text": [
            "[0] [\"b'Hernia'\"]\n"
          ]
        }
      ]
    },
    {
      "cell_type": "markdown",
      "source": [
        "##Naive Bayes"
      ],
      "metadata": {
        "id": "zr1xqGR5Rfc0"
      }
    },
    {
      "cell_type": "code",
      "source": [
        "from sklearn.naive_bayes import GaussianNB\n",
        "nb_classifier_2c= GaussianNB()\n",
        "nb_classifier_3c = GaussianNB()\n",
        "nb_classifier_2c.fit(x2c_train,y2c_train)\n",
        "nb_classifier_3c.fit(x3c_train,y3c_train)\n",
        "\n",
        "from sklearn.model_selection import cross_val_score\n",
        "nb_2c_score = cross_val_score(nb_classifier_2c,x2c_test,y2c_test,cv=10)\n",
        "nb_3c_score = cross_val_score(nb_classifier_3c,x3c_test,y3c_test,cv=10)\n",
        "\n",
        "print(\"2 class data Naive Bayes accuracy : %.2f (+/- %.2f)\"%(nb_2c_score.mean(),nb_2c_score.std()),\n",
        "      \"\\n\",\n",
        "      \" 3 class data Naive Bayes accuracy: %.2f (+/- %.2f)\"%(nb_3c_score.mean(),nb_3c_score.std()))"
      ],
      "metadata": {
        "id": "qMgTHLwYQxcT",
        "colab": {
          "base_uri": "https://localhost:8080/"
        },
        "outputId": "b1dee9a3-2516-4295-94c5-972562cf5479"
      },
      "execution_count": null,
      "outputs": [
        {
          "output_type": "stream",
          "name": "stderr",
          "text": [
            "/usr/local/lib/python3.7/dist-packages/sklearn/utils/validation.py:993: DataConversionWarning: A column-vector y was passed when a 1d array was expected. Please change the shape of y to (n_samples, ), for example using ravel().\n",
            "  y = column_or_1d(y, warn=True)\n",
            "/usr/local/lib/python3.7/dist-packages/sklearn/utils/validation.py:993: DataConversionWarning: A column-vector y was passed when a 1d array was expected. Please change the shape of y to (n_samples, ), for example using ravel().\n",
            "  y = column_or_1d(y, warn=True)\n",
            "/usr/local/lib/python3.7/dist-packages/sklearn/utils/validation.py:993: DataConversionWarning: A column-vector y was passed when a 1d array was expected. Please change the shape of y to (n_samples, ), for example using ravel().\n",
            "  y = column_or_1d(y, warn=True)\n",
            "/usr/local/lib/python3.7/dist-packages/sklearn/utils/validation.py:993: DataConversionWarning: A column-vector y was passed when a 1d array was expected. Please change the shape of y to (n_samples, ), for example using ravel().\n",
            "  y = column_or_1d(y, warn=True)\n",
            "/usr/local/lib/python3.7/dist-packages/sklearn/utils/validation.py:993: DataConversionWarning: A column-vector y was passed when a 1d array was expected. Please change the shape of y to (n_samples, ), for example using ravel().\n",
            "  y = column_or_1d(y, warn=True)\n",
            "/usr/local/lib/python3.7/dist-packages/sklearn/utils/validation.py:993: DataConversionWarning: A column-vector y was passed when a 1d array was expected. Please change the shape of y to (n_samples, ), for example using ravel().\n",
            "  y = column_or_1d(y, warn=True)\n",
            "/usr/local/lib/python3.7/dist-packages/sklearn/utils/validation.py:993: DataConversionWarning: A column-vector y was passed when a 1d array was expected. Please change the shape of y to (n_samples, ), for example using ravel().\n",
            "  y = column_or_1d(y, warn=True)\n"
          ]
        },
        {
          "output_type": "stream",
          "name": "stdout",
          "text": [
            "2 class data Naive Bayes accuracy : 0.78 (+/- 0.18) \n",
            "  3 class data Naive Bayes accuracy: 0.78 (+/- 0.14)\n"
          ]
        },
        {
          "output_type": "stream",
          "name": "stderr",
          "text": [
            "/usr/local/lib/python3.7/dist-packages/sklearn/utils/validation.py:993: DataConversionWarning: A column-vector y was passed when a 1d array was expected. Please change the shape of y to (n_samples, ), for example using ravel().\n",
            "  y = column_or_1d(y, warn=True)\n",
            "/usr/local/lib/python3.7/dist-packages/sklearn/utils/validation.py:993: DataConversionWarning: A column-vector y was passed when a 1d array was expected. Please change the shape of y to (n_samples, ), for example using ravel().\n",
            "  y = column_or_1d(y, warn=True)\n",
            "/usr/local/lib/python3.7/dist-packages/sklearn/utils/validation.py:993: DataConversionWarning: A column-vector y was passed when a 1d array was expected. Please change the shape of y to (n_samples, ), for example using ravel().\n",
            "  y = column_or_1d(y, warn=True)\n",
            "/usr/local/lib/python3.7/dist-packages/sklearn/utils/validation.py:993: DataConversionWarning: A column-vector y was passed when a 1d array was expected. Please change the shape of y to (n_samples, ), for example using ravel().\n",
            "  y = column_or_1d(y, warn=True)\n"
          ]
        }
      ]
    },
    {
      "cell_type": "markdown",
      "source": [
        "##Decision Tree Classification"
      ],
      "metadata": {
        "id": "386FL1hbBJLR"
      }
    },
    {
      "cell_type": "code",
      "source": [
        "from sklearn.tree import DecisionTreeClassifier \n",
        "\n",
        "dt_classifier_2c = DecisionTreeClassifier(criterion=\"entropy\")\n",
        "dt_classifier_3c = DecisionTreeClassifier(criterion=\"entropy\")\n",
        "\n",
        "dt_classifier_2c.fit(x2c_train,y2c_train)\n",
        "dt_classifier_3c.fit(x3c_train,y3c_train)\n",
        "\n",
        "from sklearn.model_selection import cross_val_score \n",
        "dt_2c_score = cross_val_score(dt_classifier_2c,x2c_test,y2c_test,cv=10)\n",
        "dt_3c_score = cross_val_score(dt_classifier_3c,x3c_test,y3c_test,cv=10)\n",
        "\n",
        "print(dt_2c_score.mean(),dt_3c_score.mean())"
      ],
      "metadata": {
        "id": "epGSlDsECOcX",
        "colab": {
          "base_uri": "https://localhost:8080/"
        },
        "outputId": "f83499c2-346a-4808-bd5c-6e98e74ed9a3"
      },
      "execution_count": null,
      "outputs": [
        {
          "output_type": "stream",
          "name": "stdout",
          "text": [
            "0.8714285714285713 0.8261904761904763\n"
          ]
        }
      ]
    },
    {
      "cell_type": "markdown",
      "source": [
        "##Random Forest Classification"
      ],
      "metadata": {
        "id": "s2RRb8OjEF7K"
      }
    },
    {
      "cell_type": "code",
      "source": [
        "from sklearn.ensemble import RandomForestClassifier\n",
        "rf_classifier_2c = RandomForestClassifier(n_estimators = 50 , criterion= \"entropy\")\n",
        "rf_classifier_3c = RandomForestClassifier(n_estimators = 10 , criterion= \"entropy\")\n",
        "\n",
        "rf_classifier_2c.fit(x2c_train,y2c_train)\n",
        "rf_classifier_3c.fit(x3c_train,y3c_train)\n",
        "\n",
        "rf_2c_score = cross_val_score(rf_classifier_2c,x2c_test,y2c_test,cv=10)\n",
        "rf_3c_score = cross_val_score(rf_classifier_3c,x3c_test,y3c_test,cv=10)"
      ],
      "metadata": {
        "id": "Rt_jjjDdEFbr",
        "colab": {
          "base_uri": "https://localhost:8080/"
        },
        "outputId": "4f450979-b436-46ad-f1ba-3fac20812676"
      },
      "execution_count": null,
      "outputs": [
        {
          "output_type": "stream",
          "name": "stderr",
          "text": [
            "/usr/local/lib/python3.7/dist-packages/ipykernel_launcher.py:6: DataConversionWarning: A column-vector y was passed when a 1d array was expected. Please change the shape of y to (n_samples,), for example using ravel().\n",
            "  \n",
            "/usr/local/lib/python3.7/dist-packages/sklearn/model_selection/_validation.py:680: DataConversionWarning: A column-vector y was passed when a 1d array was expected. Please change the shape of y to (n_samples,), for example using ravel().\n",
            "  estimator.fit(X_train, y_train, **fit_params)\n",
            "/usr/local/lib/python3.7/dist-packages/sklearn/model_selection/_validation.py:680: DataConversionWarning: A column-vector y was passed when a 1d array was expected. Please change the shape of y to (n_samples,), for example using ravel().\n",
            "  estimator.fit(X_train, y_train, **fit_params)\n",
            "/usr/local/lib/python3.7/dist-packages/sklearn/model_selection/_validation.py:680: DataConversionWarning: A column-vector y was passed when a 1d array was expected. Please change the shape of y to (n_samples,), for example using ravel().\n",
            "  estimator.fit(X_train, y_train, **fit_params)\n",
            "/usr/local/lib/python3.7/dist-packages/sklearn/model_selection/_validation.py:680: DataConversionWarning: A column-vector y was passed when a 1d array was expected. Please change the shape of y to (n_samples,), for example using ravel().\n",
            "  estimator.fit(X_train, y_train, **fit_params)\n",
            "/usr/local/lib/python3.7/dist-packages/sklearn/model_selection/_validation.py:680: DataConversionWarning: A column-vector y was passed when a 1d array was expected. Please change the shape of y to (n_samples,), for example using ravel().\n",
            "  estimator.fit(X_train, y_train, **fit_params)\n",
            "/usr/local/lib/python3.7/dist-packages/sklearn/model_selection/_validation.py:680: DataConversionWarning: A column-vector y was passed when a 1d array was expected. Please change the shape of y to (n_samples,), for example using ravel().\n",
            "  estimator.fit(X_train, y_train, **fit_params)\n",
            "/usr/local/lib/python3.7/dist-packages/sklearn/model_selection/_validation.py:680: DataConversionWarning: A column-vector y was passed when a 1d array was expected. Please change the shape of y to (n_samples,), for example using ravel().\n",
            "  estimator.fit(X_train, y_train, **fit_params)\n",
            "/usr/local/lib/python3.7/dist-packages/sklearn/model_selection/_validation.py:680: DataConversionWarning: A column-vector y was passed when a 1d array was expected. Please change the shape of y to (n_samples,), for example using ravel().\n",
            "  estimator.fit(X_train, y_train, **fit_params)\n",
            "/usr/local/lib/python3.7/dist-packages/sklearn/model_selection/_validation.py:680: DataConversionWarning: A column-vector y was passed when a 1d array was expected. Please change the shape of y to (n_samples,), for example using ravel().\n",
            "  estimator.fit(X_train, y_train, **fit_params)\n",
            "/usr/local/lib/python3.7/dist-packages/sklearn/model_selection/_validation.py:680: DataConversionWarning: A column-vector y was passed when a 1d array was expected. Please change the shape of y to (n_samples,), for example using ravel().\n",
            "  estimator.fit(X_train, y_train, **fit_params)\n"
          ]
        }
      ]
    },
    {
      "cell_type": "code",
      "source": [
        "print(rf_2c_score.mean(),rf_3c_score.mean())"
      ],
      "metadata": {
        "colab": {
          "base_uri": "https://localhost:8080/"
        },
        "id": "RWQeg-xdQo4q",
        "outputId": "43f686bc-4a6b-4f29-f7fd-9bb6dd9393a7"
      },
      "execution_count": null,
      "outputs": [
        {
          "output_type": "stream",
          "name": "stdout",
          "text": [
            "0.8595238095238095 0.8452380952380952\n"
          ]
        }
      ]
    },
    {
      "cell_type": "markdown",
      "source": [
        "#Model Evaluation \n",
        "\n",
        "To evaluate the performance of our models we're going to use several metrics.  For 2-class models we'll use accuracy scores in cross validation, r-squared methods and the confusion matrix. \n",
        "\n",
        "For 3-class models, we'll be using accuracy scores and confusion matrix. "
      ],
      "metadata": {
        "id": "3IDmXqAzF2kx"
      }
    },
    {
      "cell_type": "code",
      "source": [
        "from sklearn.metrics import confusion_matrix,accuracy_score\n",
        "from sklearn.model_selection import cross_val_score\n",
        "from sklearn.metrics import r2_score \n",
        "\n",
        "#Logistic Regression\n",
        "accuracy_2class= cross_val_score(classifier_2class,x2c_test,y2c_test,cv=10 )\n",
        "accuracy_3class=cross_val_score(classifier_3class,x3c_test,y3c_test,cv=10)\n",
        "\n",
        "logreg_2c_pred =classifier_2class.predict(x2c_test)\n",
        "logreg_3c_pred =classifier_3class.predict(x3c_test)\n",
        "\n",
        "logreg_r2_2c = r2_score(y2c_test,logreg_2c_pred)\n",
        "\n",
        "#K-Nearest Neighbor \n",
        "\n",
        "knn_accuracy_2class= cross_val_score(knn_classifier_2class,x2c_test,y2c_test,cv=10 )\n",
        "knn_accuracy_3class=cross_val_score(knn_classifier_3class,x3c_test,y3c_test,cv=10)\n",
        "\n",
        "knn_2c_pred = knn_classifier_2class.predict(x2c_test)\n",
        "knn_3c_pred = knn_classifier_3class.predict(x3c_test)\n",
        "\n",
        "knn_r2_2c = r2_score(y2c_test,knn_2c_pred)\n",
        "\n",
        "#Support Vector Machines \n",
        "linear_svm_2c = cross_val_score(svm_2c_linear,x2c_test,y2c_test,cv=10)\n",
        "nonlin_svm_2c = cross_val_score(svm_2c_nonlin,x2c_test,y2c_test,cv=10)\n",
        "linear_svm_3c = cross_val_score(svm_3c_lin,x3c_test,y3c_test,cv=10)\n",
        "nonlin_svm_3c = cross_val_score(svm_3c_nonlin,x3c_test,y3c_test,cv=10)\n",
        "\n",
        "lin_svm_2pred = svm_2c_linear.predict(x2c_test)\n",
        "nonlin_svm_2pred = svm_2c_nonlin.predict(x2c_test)\n",
        "lin_svm_3pred = svm_3c_lin.predict(x3c_test)\n",
        "nonlin_svm_3pred = svm_3c_nonlin.predict(x3c_test)\n",
        "\n",
        "linsvm_r2_2c = r2_score(y2c_test,lin_svm_2pred)\n",
        "nonlinsvm_r2_2c = r2_score(y2c_test,nonlin_svm_2pred)\n",
        "\n",
        "#Naive Bayes \n",
        "nb_2c_score = cross_val_score(nb_classifier_2c,x2c_test,y2c_test,cv=10)\n",
        "nb_3c_score = cross_val_score(nb_classifier_3c,x3c_test,y3c_test,cv=10)\n",
        "\n",
        "nb_2c_pred = nb_classifier_2c.predict(x2c_test)\n",
        "nb_3c_pred = nb_classifier_3c.predict(x3c_test)\n",
        "\n",
        "nb_r2_2c = r2_score(y2c_test,nb_2c_pred)\n",
        "\n",
        "#Decision Tree \n",
        "dt_2c_score = cross_val_score(dt_classifier_2c,x2c_test,y2c_test,cv=10)\n",
        "dt_3c_score = cross_val_score(dt_classifier_3c,x3c_test,y3c_test,cv=10)\n",
        "\n",
        "dt_2c_pred = dt_classifier_2c.predict(x2c_test)\n",
        "dt_3c_pred = dt_classifier_3c.predict(x3c_test)\n",
        "\n",
        "dt_r2_2c = r2_score(y2c_test,dt_2c_pred)\n",
        "\n",
        "#Random Forest \n",
        "rf_2c_score = cross_val_score(rf_classifier_2c,x2c_test,y2c_test,cv=10)\n",
        "rf_3c_score = cross_val_score(rf_classifier_3c,x3c_test,y3c_test,cv=10)\n",
        "\n",
        "rf_2c_pred = rf_classifier_2c.predict(x2c_test)\n",
        "rf_3c_pred = rf_classifier_3c.predict(x3c_test)\n",
        "\n",
        "rf_r2_2c = r2_score(y2c_test,rf_2c_pred)\n"
      ],
      "metadata": {
        "id": "y1Cz0GRcMlD4"
      },
      "execution_count": null,
      "outputs": []
    },
    {
      "cell_type": "markdown",
      "source": [
        "###Accuracy Score Comparison for 2 Class Data"
      ],
      "metadata": {
        "id": "6xxlOsIkW__9"
      }
    },
    {
      "cell_type": "code",
      "source": [
        "dict = {\"2 Class Model Name\": [\"Logistic Regression\",\"K-Nearest Neighbor\",\"Support Vector Machine (linear)\",\"Support Vector Machine (non-linear)\", \"Naive Bayes\",\"Decision Tree\",\"Random Forest\"],\n",
        "        \"Accuracy Score\": [accuracy_2class.mean(),knn_accuracy_2class.mean(),linear_svm_2c.mean(),nonlin_svm_2c.mean(),nb_2c_score.mean(),dt_2c_score.mean(),rf_2c_score.mean()],\n",
        "        \"r2 Score\": [logreg_r2_2c,knn_r2_2c,linsvm_r2_2c,nonlinsvm_r2_2c,nb_r2_2c,dt_r2_2c,rf_r2_2c]}\n",
        "\n",
        "df1 = pd.DataFrame(dict)\n",
        "df1 = df1.round(2)\n",
        "df1"
      ],
      "metadata": {
        "id": "ZInuDmzdL9zq",
        "colab": {
          "base_uri": "https://localhost:8080/"
        },
        "outputId": "1b6130c9-0dc8-4159-bc61-9f6f2d95a785"
      },
      "execution_count": null,
      "outputs": [
        {
          "output_type": "execute_result",
          "data": {
            "text/plain": [
              "                    2 Class Model Name  Accuracy Score  r2 Score\n",
              "0                  Logistic Regression            0.79      0.41\n",
              "1                   K-Nearest Neighbor            0.71     -0.03\n",
              "2      Support Vector Machine (linear)            0.84      0.34\n",
              "3  Support Vector Machine (non-linear)            0.81      0.26\n",
              "4                          Naive Bayes            0.78      0.19\n",
              "5                        Decision Tree            0.87      0.19\n",
              "6                        Random Forest            0.86      0.26"
            ],
            "text/html": [
              "\n",
              "  <div id=\"df-a08e601f-9f9e-4416-baa0-95393f335179\">\n",
              "    <div class=\"colab-df-container\">\n",
              "      <div>\n",
              "<style scoped>\n",
              "    .dataframe tbody tr th:only-of-type {\n",
              "        vertical-align: middle;\n",
              "    }\n",
              "\n",
              "    .dataframe tbody tr th {\n",
              "        vertical-align: top;\n",
              "    }\n",
              "\n",
              "    .dataframe thead th {\n",
              "        text-align: right;\n",
              "    }\n",
              "</style>\n",
              "<table border=\"1\" class=\"dataframe\">\n",
              "  <thead>\n",
              "    <tr style=\"text-align: right;\">\n",
              "      <th></th>\n",
              "      <th>2 Class Model Name</th>\n",
              "      <th>Accuracy Score</th>\n",
              "      <th>r2 Score</th>\n",
              "    </tr>\n",
              "  </thead>\n",
              "  <tbody>\n",
              "    <tr>\n",
              "      <th>0</th>\n",
              "      <td>Logistic Regression</td>\n",
              "      <td>0.79</td>\n",
              "      <td>0.41</td>\n",
              "    </tr>\n",
              "    <tr>\n",
              "      <th>1</th>\n",
              "      <td>K-Nearest Neighbor</td>\n",
              "      <td>0.71</td>\n",
              "      <td>-0.03</td>\n",
              "    </tr>\n",
              "    <tr>\n",
              "      <th>2</th>\n",
              "      <td>Support Vector Machine (linear)</td>\n",
              "      <td>0.84</td>\n",
              "      <td>0.34</td>\n",
              "    </tr>\n",
              "    <tr>\n",
              "      <th>3</th>\n",
              "      <td>Support Vector Machine (non-linear)</td>\n",
              "      <td>0.81</td>\n",
              "      <td>0.26</td>\n",
              "    </tr>\n",
              "    <tr>\n",
              "      <th>4</th>\n",
              "      <td>Naive Bayes</td>\n",
              "      <td>0.78</td>\n",
              "      <td>0.19</td>\n",
              "    </tr>\n",
              "    <tr>\n",
              "      <th>5</th>\n",
              "      <td>Decision Tree</td>\n",
              "      <td>0.87</td>\n",
              "      <td>0.19</td>\n",
              "    </tr>\n",
              "    <tr>\n",
              "      <th>6</th>\n",
              "      <td>Random Forest</td>\n",
              "      <td>0.86</td>\n",
              "      <td>0.26</td>\n",
              "    </tr>\n",
              "  </tbody>\n",
              "</table>\n",
              "</div>\n",
              "      <button class=\"colab-df-convert\" onclick=\"convertToInteractive('df-a08e601f-9f9e-4416-baa0-95393f335179')\"\n",
              "              title=\"Convert this dataframe to an interactive table.\"\n",
              "              style=\"display:none;\">\n",
              "        \n",
              "  <svg xmlns=\"http://www.w3.org/2000/svg\" height=\"24px\"viewBox=\"0 0 24 24\"\n",
              "       width=\"24px\">\n",
              "    <path d=\"M0 0h24v24H0V0z\" fill=\"none\"/>\n",
              "    <path d=\"M18.56 5.44l.94 2.06.94-2.06 2.06-.94-2.06-.94-.94-2.06-.94 2.06-2.06.94zm-11 1L8.5 8.5l.94-2.06 2.06-.94-2.06-.94L8.5 2.5l-.94 2.06-2.06.94zm10 10l.94 2.06.94-2.06 2.06-.94-2.06-.94-.94-2.06-.94 2.06-2.06.94z\"/><path d=\"M17.41 7.96l-1.37-1.37c-.4-.4-.92-.59-1.43-.59-.52 0-1.04.2-1.43.59L10.3 9.45l-7.72 7.72c-.78.78-.78 2.05 0 2.83L4 21.41c.39.39.9.59 1.41.59.51 0 1.02-.2 1.41-.59l7.78-7.78 2.81-2.81c.8-.78.8-2.07 0-2.86zM5.41 20L4 18.59l7.72-7.72 1.47 1.35L5.41 20z\"/>\n",
              "  </svg>\n",
              "      </button>\n",
              "      \n",
              "  <style>\n",
              "    .colab-df-container {\n",
              "      display:flex;\n",
              "      flex-wrap:wrap;\n",
              "      gap: 12px;\n",
              "    }\n",
              "\n",
              "    .colab-df-convert {\n",
              "      background-color: #E8F0FE;\n",
              "      border: none;\n",
              "      border-radius: 50%;\n",
              "      cursor: pointer;\n",
              "      display: none;\n",
              "      fill: #1967D2;\n",
              "      height: 32px;\n",
              "      padding: 0 0 0 0;\n",
              "      width: 32px;\n",
              "    }\n",
              "\n",
              "    .colab-df-convert:hover {\n",
              "      background-color: #E2EBFA;\n",
              "      box-shadow: 0px 1px 2px rgba(60, 64, 67, 0.3), 0px 1px 3px 1px rgba(60, 64, 67, 0.15);\n",
              "      fill: #174EA6;\n",
              "    }\n",
              "\n",
              "    [theme=dark] .colab-df-convert {\n",
              "      background-color: #3B4455;\n",
              "      fill: #D2E3FC;\n",
              "    }\n",
              "\n",
              "    [theme=dark] .colab-df-convert:hover {\n",
              "      background-color: #434B5C;\n",
              "      box-shadow: 0px 1px 3px 1px rgba(0, 0, 0, 0.15);\n",
              "      filter: drop-shadow(0px 1px 2px rgba(0, 0, 0, 0.3));\n",
              "      fill: #FFFFFF;\n",
              "    }\n",
              "  </style>\n",
              "\n",
              "      <script>\n",
              "        const buttonEl =\n",
              "          document.querySelector('#df-a08e601f-9f9e-4416-baa0-95393f335179 button.colab-df-convert');\n",
              "        buttonEl.style.display =\n",
              "          google.colab.kernel.accessAllowed ? 'block' : 'none';\n",
              "\n",
              "        async function convertToInteractive(key) {\n",
              "          const element = document.querySelector('#df-a08e601f-9f9e-4416-baa0-95393f335179');\n",
              "          const dataTable =\n",
              "            await google.colab.kernel.invokeFunction('convertToInteractive',\n",
              "                                                     [key], {});\n",
              "          if (!dataTable) return;\n",
              "\n",
              "          const docLinkHtml = 'Like what you see? Visit the ' +\n",
              "            '<a target=\"_blank\" href=https://colab.research.google.com/notebooks/data_table.ipynb>data table notebook</a>'\n",
              "            + ' to learn more about interactive tables.';\n",
              "          element.innerHTML = '';\n",
              "          dataTable['output_type'] = 'display_data';\n",
              "          await google.colab.output.renderOutput(dataTable, element);\n",
              "          const docLink = document.createElement('div');\n",
              "          docLink.innerHTML = docLinkHtml;\n",
              "          element.appendChild(docLink);\n",
              "        }\n",
              "      </script>\n",
              "    </div>\n",
              "  </div>\n",
              "  "
            ]
          },
          "metadata": {},
          "execution_count": 22
        }
      ]
    },
    {
      "cell_type": "code",
      "source": [
        "df1.to_csv(\"2Class_ModelAccuracyScores.csv\",index=False )"
      ],
      "metadata": {
        "id": "dWBbz1I33uV6"
      },
      "execution_count": null,
      "outputs": []
    },
    {
      "cell_type": "markdown",
      "source": [
        "###Confusion Matrices for 2 Class Models"
      ],
      "metadata": {
        "id": "vZ6_qLLjlAUu"
      }
    },
    {
      "cell_type": "code",
      "source": [
        "#creating confusion matrices \n",
        "classnames = list(set(y2c_train))\n",
        "\n",
        "logreg_conmat = confusion_matrix(y2c_test,logreg_2c_pred)\n",
        "val1=np.mat(logreg_conmat)\n",
        "logreg_df = pd.DataFrame(val1,index=classnames,columns=classnames)\n",
        "\n",
        "knn_conmat = confusion_matrix(y2c_test,knn_2c_pred)\n",
        "val2=np.mat(knn_conmat)\n",
        "knn_df = pd.DataFrame(val2,index=classnames,columns=classnames)\n",
        "\n",
        "\n",
        "linsvm_conmat = confusion_matrix(y2c_test,lin_svm_2pred)\n",
        "val3=np.mat(linsvm_conmat)\n",
        "linsvm_df = pd.DataFrame(val3,index=classnames,columns=classnames)\n",
        "\n",
        "nonlin_svm_conmat = confusion_matrix(y2c_test,nonlin_svm_2pred)\n",
        "val4=np.mat(nonlin_svm_conmat)\n",
        "nonlin_svm_df = pd.DataFrame(val4,index=classnames,columns=classnames)\n",
        "\n",
        "nb_conmat = confusion_matrix(y2c_test,nb_2c_pred)\n",
        "val5=np.mat(nb_conmat)\n",
        "nb_df = pd.DataFrame(val5,index=classnames,columns=classnames)\n",
        "\n",
        "dt_conmat = confusion_matrix(y2c_test,dt_2c_pred)\n",
        "val6=np.mat(dt_conmat)\n",
        "dt_df = pd.DataFrame(val6,index=classnames,columns=classnames)\n",
        "\n",
        "rf_conmat = confusion_matrix(y2c_test,rf_2c_pred)\n",
        "val7=np.mat(rf_conmat)\n",
        "rf_df = pd.DataFrame(val7,index=classnames,columns=classnames)"
      ],
      "metadata": {
        "id": "fxbwCySNlACy"
      },
      "execution_count": null,
      "outputs": []
    },
    {
      "cell_type": "code",
      "source": [
        "#creating confusion matrix graphs \n",
        "fig,axes = plt.subplots(3,3,figsize=(16,8))\n",
        "plt.tight_layout(pad=5)\n",
        "fig.suptitle(\"Confusion Matrices for 2 Class Models\",fontsize=16)\n",
        "\n",
        "axes[0,0].set_title(\"Logistic Regression\")\n",
        "heatmap = sns.heatmap(logreg_df,annot=True,vmin=0,vmax=40, cmap=\"Blues\", ax = axes[0,0]);\n",
        "axes[0,0].set_xlabel(\"True Label\")\n",
        "axes[0,0].set_ylabel(\"Predicted Label\")\n",
        "axes[0,0].yaxis.set_ticklabels(heatmap.yaxis.get_ticklabels(), rotation=0, ha='right')\n",
        "axes[0,0].xaxis.set_ticklabels(heatmap.xaxis.get_ticklabels(), rotation=45, ha='right')\n",
        "\n",
        "axes[0,1].set_title(\"K-Nearest Neighbor\")\n",
        "heatmap = sns.heatmap(knn_df,annot=True, vmin=0,vmax=40,cmap=\"Blues\", ax = axes[0,1])\n",
        "axes[0,1].set_xlabel(\"True Label\")\n",
        "axes[0,1].set_ylabel(\"Predicted Label\")\n",
        "axes[0,1].yaxis.set_ticklabels(heatmap.yaxis.get_ticklabels(), rotation=0, ha='right')\n",
        "axes[0,1].xaxis.set_ticklabels(heatmap.xaxis.get_ticklabels(), rotation=45, ha='right')\n",
        "\n",
        "axes[0,2].set_title(\"Support Vector Machines (linear)\")\n",
        "heatmap = sns.heatmap(linsvm_df,annot=True, vmin=0,vmax=40, cmap=\"Blues\", ax = axes[0,2])\n",
        "axes[0,2].set_xlabel(\"True Label\")\n",
        "axes[0,2].set_ylabel(\"Predicted Label\")\n",
        "axes[0,2].yaxis.set_ticklabels(heatmap.yaxis.get_ticklabels(), rotation=0, ha='right')\n",
        "axes[0,2].xaxis.set_ticklabels(heatmap.xaxis.get_ticklabels(), rotation=45, ha='right')\n",
        "\n",
        "axes[1,0].set_title(\"Support Vector Machines (nonlinear)\")\n",
        "heatmap = sns.heatmap(nonlin_svm_df,annot=True,vmin=0,vmax=40, cmap=\"Blues\", ax = axes[1,0])\n",
        "axes[1,0].set_xlabel(\"True Label\")\n",
        "axes[1,0].set_ylabel(\"Predicted Label\")\n",
        "axes[1,0].yaxis.set_ticklabels(heatmap.yaxis.get_ticklabels(), rotation=0, ha='right')\n",
        "axes[1,0].xaxis.set_ticklabels(heatmap.xaxis.get_ticklabels(), rotation=45, ha='right')\n",
        "\n",
        "axes[1,1].set_title(\"Naive Bayes\")\n",
        "heatmap = sns.heatmap(nb_df,annot=True,vmin=0,vmax=40, cmap=\"Blues\", ax = axes[1,1])\n",
        "axes[1,1].set_xlabel(\"True Label\")\n",
        "axes[1,1].set_ylabel(\"Predicted Label\")\n",
        "axes[1,1].yaxis.set_ticklabels(heatmap.yaxis.get_ticklabels(), rotation=0, ha='right')\n",
        "axes[1,1].xaxis.set_ticklabels(heatmap.xaxis.get_ticklabels(), rotation=45, ha='right')\n",
        "\n",
        "\n",
        "axes[1,2].set_title(\"Decision Tree\")\n",
        "heatmap = sns.heatmap(dt_df,annot=True,vmin=0,vmax=40, cmap=\"Blues\", ax = axes[1,2])\n",
        "axes[1,2].set_xlabel(\"True Label\")\n",
        "axes[1,2].set_ylabel(\"Predicted Label\")\n",
        "axes[1,2].yaxis.set_ticklabels(heatmap.yaxis.get_ticklabels(), rotation=0, ha='right')\n",
        "axes[1,2].xaxis.set_ticklabels(heatmap.xaxis.get_ticklabels(), rotation=45, ha='right')\n",
        "\n",
        "\n",
        "axes[2,0].set_title(\"Random Forest\")\n",
        "heatmap = sns.heatmap(rf_df,annot=True, vmin=0,vmax=40,cmap=\"Blues\", ax = axes[2,0])\n",
        "axes[2,0].set_xlabel(\"True Label\")\n",
        "axes[2,0].set_ylabel(\"Predicted Label\")\n",
        "axes[2,0].yaxis.set_ticklabels(heatmap.yaxis.get_ticklabels(), rotation=0, ha='right')\n",
        "axes[2,0].xaxis.set_ticklabels(heatmap.xaxis.get_ticklabels(), rotation=45, ha='right')\n",
        "\n",
        "fig.delaxes(axes[2][1])\n",
        "fig.delaxes(axes[2][2])\n",
        "\n",
        "plt.savefig(\"2Class Test Set Confusion Matrices \", dpi=300) "
      ],
      "metadata": {
        "colab": {
          "base_uri": "https://localhost:8080/"
        },
        "id": "coENjJhdkvUO",
        "outputId": "d8a6f3ca-7a03-4303-adcd-2c845882ccee"
      },
      "execution_count": null,
      "outputs": [
        {
          "output_type": "display_data",
          "data": {
            "text/plain": [
              "<Figure size 1152x576 with 14 Axes>"
            ],
            "image/png": "[encoded data removed]"
          },
          "metadata": {
            "needs_background": "light"
          }
        }
      ]
    },
    {
      "cell_type": "markdown",
      "source": [
        "Confusion matrix visualization for 2 class & 3 class (https://builtin.com/data-science/evaluating-classification-models) \n",
        "\n",
        "Accuracy score table for 3 class"
      ],
      "metadata": {
        "id": "-vYdjjpdXOVr"
      }
    },
    {
      "cell_type": "markdown",
      "source": [
        "After model evaluation, select best performing model and evaluate which attributes are most significant for development of vertebra problems "
      ],
      "metadata": {
        "id": "ZJUyrGlzZA9E"
      }
    },
    {
      "cell_type": "markdown",
      "source": [
        "###Accuracy Score for 3 Class Data"
      ],
      "metadata": {
        "id": "4pA0QAgB3N9S"
      }
    },
    {
      "cell_type": "code",
      "source": [
        "dict = {\"3 Class Model Name\": [\"Logistic Regression\",\"K-Nearest Neighbor\",\"Support Vector Machine (linear)\",\"Support Vector Machine (non-linear)\", \"Naive Bayes\",\"Decision Tree\",\"Random Forest\"],\n",
        "        \"Accuracy Score\": [accuracy_3class.mean(),knn_accuracy_3class.mean(),linear_svm_3c.mean(),nonlin_svm_3c.mean(),nb_3c_score.mean(),dt_3c_score.mean(),rf_3c_score.mean()]}\n",
        "\n",
        "df2 = pd.DataFrame(dict)\n",
        "df2 = df2.round(2)\n",
        "df2"
      ],
      "metadata": {
        "colab": {
          "base_uri": "https://localhost:8080/"
        },
        "id": "1wg8cdau3USJ",
        "outputId": "c62c700f-35f7-424e-a12b-ab86a312a736"
      },
      "execution_count": null,
      "outputs": [
        {
          "output_type": "execute_result",
          "data": {
            "text/plain": [
              "                    3 Class Model Name  Accuracy Score\n",
              "0                  Logistic Regression            0.75\n",
              "1                   K-Nearest Neighbor            0.63\n",
              "2      Support Vector Machine (linear)            0.77\n",
              "3  Support Vector Machine (non-linear)            0.71\n",
              "4                          Naive Bayes            0.78\n",
              "5                        Decision Tree            0.88\n",
              "6                        Random Forest            0.79"
            ],
            "text/html": [
              "\n",
              "  <div id=\"df-fec04f73-1279-40d5-a8ed-1afe989511d0\">\n",
              "    <div class=\"colab-df-container\">\n",
              "      <div>\n",
              "<style scoped>\n",
              "    .dataframe tbody tr th:only-of-type {\n",
              "        vertical-align: middle;\n",
              "    }\n",
              "\n",
              "    .dataframe tbody tr th {\n",
              "        vertical-align: top;\n",
              "    }\n",
              "\n",
              "    .dataframe thead th {\n",
              "        text-align: right;\n",
              "    }\n",
              "</style>\n",
              "<table border=\"1\" class=\"dataframe\">\n",
              "  <thead>\n",
              "    <tr style=\"text-align: right;\">\n",
              "      <th></th>\n",
              "      <th>3 Class Model Name</th>\n",
              "      <th>Accuracy Score</th>\n",
              "    </tr>\n",
              "  </thead>\n",
              "  <tbody>\n",
              "    <tr>\n",
              "      <th>0</th>\n",
              "      <td>Logistic Regression</td>\n",
              "      <td>0.75</td>\n",
              "    </tr>\n",
              "    <tr>\n",
              "      <th>1</th>\n",
              "      <td>K-Nearest Neighbor</td>\n",
              "      <td>0.63</td>\n",
              "    </tr>\n",
              "    <tr>\n",
              "      <th>2</th>\n",
              "      <td>Support Vector Machine (linear)</td>\n",
              "      <td>0.77</td>\n",
              "    </tr>\n",
              "    <tr>\n",
              "      <th>3</th>\n",
              "      <td>Support Vector Machine (non-linear)</td>\n",
              "      <td>0.71</td>\n",
              "    </tr>\n",
              "    <tr>\n",
              "      <th>4</th>\n",
              "      <td>Naive Bayes</td>\n",
              "      <td>0.78</td>\n",
              "    </tr>\n",
              "    <tr>\n",
              "      <th>5</th>\n",
              "      <td>Decision Tree</td>\n",
              "      <td>0.88</td>\n",
              "    </tr>\n",
              "    <tr>\n",
              "      <th>6</th>\n",
              "      <td>Random Forest</td>\n",
              "      <td>0.79</td>\n",
              "    </tr>\n",
              "  </tbody>\n",
              "</table>\n",
              "</div>\n",
              "      <button class=\"colab-df-convert\" onclick=\"convertToInteractive('df-fec04f73-1279-40d5-a8ed-1afe989511d0')\"\n",
              "              title=\"Convert this dataframe to an interactive table.\"\n",
              "              style=\"display:none;\">\n",
              "        \n",
              "  <svg xmlns=\"http://www.w3.org/2000/svg\" height=\"24px\"viewBox=\"0 0 24 24\"\n",
              "       width=\"24px\">\n",
              "    <path d=\"M0 0h24v24H0V0z\" fill=\"none\"/>\n",
              "    <path d=\"M18.56 5.44l.94 2.06.94-2.06 2.06-.94-2.06-.94-.94-2.06-.94 2.06-2.06.94zm-11 1L8.5 8.5l.94-2.06 2.06-.94-2.06-.94L8.5 2.5l-.94 2.06-2.06.94zm10 10l.94 2.06.94-2.06 2.06-.94-2.06-.94-.94-2.06-.94 2.06-2.06.94z\"/><path d=\"M17.41 7.96l-1.37-1.37c-.4-.4-.92-.59-1.43-.59-.52 0-1.04.2-1.43.59L10.3 9.45l-7.72 7.72c-.78.78-.78 2.05 0 2.83L4 21.41c.39.39.9.59 1.41.59.51 0 1.02-.2 1.41-.59l7.78-7.78 2.81-2.81c.8-.78.8-2.07 0-2.86zM5.41 20L4 18.59l7.72-7.72 1.47 1.35L5.41 20z\"/>\n",
              "  </svg>\n",
              "      </button>\n",
              "      \n",
              "  <style>\n",
              "    .colab-df-container {\n",
              "      display:flex;\n",
              "      flex-wrap:wrap;\n",
              "      gap: 12px;\n",
              "    }\n",
              "\n",
              "    .colab-df-convert {\n",
              "      background-color: #E8F0FE;\n",
              "      border: none;\n",
              "      border-radius: 50%;\n",
              "      cursor: pointer;\n",
              "      display: none;\n",
              "      fill: #1967D2;\n",
              "      height: 32px;\n",
              "      padding: 0 0 0 0;\n",
              "      width: 32px;\n",
              "    }\n",
              "\n",
              "    .colab-df-convert:hover {\n",
              "      background-color: #E2EBFA;\n",
              "      box-shadow: 0px 1px 2px rgba(60, 64, 67, 0.3), 0px 1px 3px 1px rgba(60, 64, 67, 0.15);\n",
              "      fill: #174EA6;\n",
              "    }\n",
              "\n",
              "    [theme=dark] .colab-df-convert {\n",
              "      background-color: #3B4455;\n",
              "      fill: #D2E3FC;\n",
              "    }\n",
              "\n",
              "    [theme=dark] .colab-df-convert:hover {\n",
              "      background-color: #434B5C;\n",
              "      box-shadow: 0px 1px 3px 1px rgba(0, 0, 0, 0.15);\n",
              "      filter: drop-shadow(0px 1px 2px rgba(0, 0, 0, 0.3));\n",
              "      fill: #FFFFFF;\n",
              "    }\n",
              "  </style>\n",
              "\n",
              "      <script>\n",
              "        const buttonEl =\n",
              "          document.querySelector('#df-fec04f73-1279-40d5-a8ed-1afe989511d0 button.colab-df-convert');\n",
              "        buttonEl.style.display =\n",
              "          google.colab.kernel.accessAllowed ? 'block' : 'none';\n",
              "\n",
              "        async function convertToInteractive(key) {\n",
              "          const element = document.querySelector('#df-fec04f73-1279-40d5-a8ed-1afe989511d0');\n",
              "          const dataTable =\n",
              "            await google.colab.kernel.invokeFunction('convertToInteractive',\n",
              "                                                     [key], {});\n",
              "          if (!dataTable) return;\n",
              "\n",
              "          const docLinkHtml = 'Like what you see? Visit the ' +\n",
              "            '<a target=\"_blank\" href=https://colab.research.google.com/notebooks/data_table.ipynb>data table notebook</a>'\n",
              "            + ' to learn more about interactive tables.';\n",
              "          element.innerHTML = '';\n",
              "          dataTable['output_type'] = 'display_data';\n",
              "          await google.colab.output.renderOutput(dataTable, element);\n",
              "          const docLink = document.createElement('div');\n",
              "          docLink.innerHTML = docLinkHtml;\n",
              "          element.appendChild(docLink);\n",
              "        }\n",
              "      </script>\n",
              "    </div>\n",
              "  </div>\n",
              "  "
            ]
          },
          "metadata": {},
          "execution_count": 26
        }
      ]
    },
    {
      "cell_type": "code",
      "source": [
        "df2.to_csv(\"3Class_ModelAccuracyScores.csv\",index=False )"
      ],
      "metadata": {
        "id": "pbF3LiMV3nqA"
      },
      "execution_count": null,
      "outputs": []
    },
    {
      "cell_type": "markdown",
      "source": [
        "###Confusion Matrices for 3 Class Data"
      ],
      "metadata": {
        "id": "8qrFeBBJEYMd"
      }
    },
    {
      "cell_type": "code",
      "source": [
        "classnames = list(set(logreg_3c_pred))\n",
        "\n",
        "logreg_conmat3 = confusion_matrix(y3c_test,logreg_3c_pred)\n",
        "val10=np.mat(logreg_conmat3)\n",
        "logreg_df3 = pd.DataFrame(val10,index=classnames,columns=classnames)\n",
        "\n",
        "knn_conmat3 = confusion_matrix(y3c_test,knn_3c_pred)\n",
        "val20=np.mat(knn_conmat3)\n",
        "knn_df3 = pd.DataFrame(val20,index=classnames,columns=classnames)\n",
        "\n",
        "\n",
        "linsvm_conmat3 = confusion_matrix(y3c_test,lin_svm_3pred)\n",
        "val30=np.mat(linsvm_conmat3)\n",
        "linsvm_df3 = pd.DataFrame(val30,index=classnames,columns=classnames)\n",
        "\n",
        "nonlin_svm_conmat3 = confusion_matrix(y3c_test,nonlin_svm_3pred)\n",
        "val40=np.mat(nonlin_svm_conmat3)\n",
        "nonlin_svm_df3 = pd.DataFrame(val40,index=classnames,columns=classnames)\n",
        "\n",
        "nb_conmat3 = confusion_matrix(y3c_test,nb_3c_pred)\n",
        "val50=np.mat(nb_conmat3)\n",
        "nb_df3 = pd.DataFrame(val50,index=classnames,columns=classnames)\n",
        "\n",
        "dt_conmat3 = confusion_matrix(y3c_test,dt_3c_pred)\n",
        "val60=np.mat(dt_conmat3)\n",
        "dt_df3 = pd.DataFrame(val60,index=classnames,columns=classnames)\n",
        "\n",
        "rf_conmat3 = confusion_matrix(y3c_test,rf_3c_pred)\n",
        "val70=np.mat(rf_conmat3)\n",
        "rf_df3 = pd.DataFrame(val70,index=classnames,columns=classnames)"
      ],
      "metadata": {
        "id": "NVfEKEiZBu-n"
      },
      "execution_count": null,
      "outputs": []
    },
    {
      "cell_type": "code",
      "source": [
        "fig,axes = plt.subplots(3,3,figsize=(20,10));\n",
        "plt.tight_layout(pad=9)\n",
        "fig.suptitle(\"Confusion Matrices for 3 Class Models\",fontsize=20);\n",
        "\n",
        "axes[0,0].set_title(\"Logistic Regression\",fontsize=14)\n",
        "heatmap = sns.heatmap(logreg_df3,annot=True,vmin=0,vmax=40, cmap=\"Greens\", ax = axes[0,0]);\n",
        "axes[0,0].set_xlabel(\"True Label\",fontweight=\"bold\")\n",
        "axes[0,0].set_ylabel(\"Predicted Label\",fontweight=\"bold\")\n",
        "axes[0,0].yaxis.set_ticklabels(heatmap.yaxis.get_ticklabels(), rotation=0, ha='right')\n",
        "axes[0,0].xaxis.set_ticklabels(heatmap.xaxis.get_ticklabels(), rotation=25, ha='right')\n",
        "\n",
        "axes[0,1].set_title(\"K-Nearest Neighbor\",fontsize=14)\n",
        "heatmap = sns.heatmap(knn_df3,annot=True, vmin=0,vmax=40,cmap=\"Greens\", ax = axes[0,1])\n",
        "axes[0,1].set_xlabel(\"True Label\",fontweight=\"bold\")\n",
        "axes[0,1].set_ylabel(\"Predicted Label\",fontweight=\"bold\")\n",
        "axes[0,1].yaxis.set_ticklabels(heatmap.yaxis.get_ticklabels(), rotation=0, ha='right')\n",
        "axes[0,1].xaxis.set_ticklabels(heatmap.xaxis.get_ticklabels(), rotation=25, ha='right')\n",
        "\n",
        "axes[0,2].set_title(\"Support Vector Machines (linear)\",fontsize=14)\n",
        "heatmap = sns.heatmap(linsvm_df3,annot=True, vmin=0,vmax=40, cmap=\"Greens\", ax = axes[0,2])\n",
        "axes[0,2].set_xlabel(\"True Label\",fontweight=\"bold\")\n",
        "axes[0,2].set_ylabel(\"Predicted Label\",fontweight=\"bold\")\n",
        "axes[0,2].yaxis.set_ticklabels(heatmap.yaxis.get_ticklabels(), rotation=0, ha='right')\n",
        "axes[0,2].xaxis.set_ticklabels(heatmap.xaxis.get_ticklabels(), rotation=25, ha='right')\n",
        "\n",
        "axes[1,0].set_title(\"Support Vector Machines (nonlinear)\",fontsize=14)\n",
        "heatmap = sns.heatmap(nonlin_svm_df3,annot=True,vmin=0,vmax=40, cmap=\"Greens\", ax = axes[1,0])\n",
        "axes[1,0].set_xlabel(\"True Label\",fontweight=\"bold\")\n",
        "axes[1,0].set_ylabel(\"Predicted Label\",fontweight=\"bold\")\n",
        "axes[1,0].yaxis.set_ticklabels(heatmap.yaxis.get_ticklabels(), rotation=0, ha='right')\n",
        "axes[1,0].xaxis.set_ticklabels(heatmap.xaxis.get_ticklabels(), rotation=25, ha='right')\n",
        "\n",
        "axes[1,1].set_title(\"Naive Bayes\",fontsize=14)\n",
        "heatmap = sns.heatmap(nb_df3,annot=True,vmin=0,vmax=40, cmap=\"Greens\", ax = axes[1,1])\n",
        "axes[1,1].set_xlabel(\"True Label\",fontweight=\"bold\")\n",
        "axes[1,1].set_ylabel(\"Predicted Label\",fontweight=\"bold\")\n",
        "axes[1,1].yaxis.set_ticklabels(heatmap.yaxis.get_ticklabels(), rotation=0, ha='right')\n",
        "axes[1,1].xaxis.set_ticklabels(heatmap.xaxis.get_ticklabels(), rotation=25, ha='right')\n",
        "\n",
        "\n",
        "axes[1,2].set_title(\"Decision Tree\",fontsize=14)\n",
        "heatmap = sns.heatmap(dt_df3,annot=True,vmin=0,vmax=40, cmap=\"Greens\", ax = axes[1,2])\n",
        "axes[1,2].set_xlabel(\"True Label\",fontweight=\"bold\")\n",
        "axes[1,2].set_ylabel(\"Predicted Label\",fontweight=\"bold\")\n",
        "axes[1,2].yaxis.set_ticklabels(heatmap.yaxis.get_ticklabels(), rotation=0, ha='right')\n",
        "axes[1,2].xaxis.set_ticklabels(heatmap.xaxis.get_ticklabels(), rotation=25, ha='right')\n",
        "\n",
        "\n",
        "axes[2,0].set_title(\"Random Forest\",fontsize=14)\n",
        "heatmap = sns.heatmap(rf_df3,annot=True, vmin=0,vmax=40,cmap=\"Greens\", ax = axes[2,0])\n",
        "axes[2,0].set_xlabel(\"True Label\",fontweight=\"bold\")\n",
        "axes[2,0].set_ylabel(\"Predicted Label\",fontweight=\"bold\")\n",
        "axes[2,0].yaxis.set_ticklabels(heatmap.yaxis.get_ticklabels(), rotation=0, ha='right')\n",
        "axes[2,0].xaxis.set_ticklabels(heatmap.xaxis.get_ticklabels(), rotation=25, ha='right')\n",
        "\n",
        "fig.delaxes(axes[2][1])\n",
        "fig.delaxes(axes[2][2])\n",
        "\n",
        "plt.savefig(\"3Class Test Set Confusion Matrices \", dpi=300) "
      ],
      "metadata": {
        "colab": {
          "base_uri": "https://localhost:8080/"
        },
        "id": "Ej7VUPNC3xIH",
        "outputId": "cc1d4984-82d7-4158-acdf-fe69e2a2e2ec"
      },
      "execution_count": null,
      "outputs": [
        {
          "output_type": "display_data",
          "data": {
            "text/plain": [
              "<Figure size 1440x720 with 14 Axes>"
            ],
            "image/png": "[encoded data removed]"
          },
          "metadata": {
            "needs_background": "light"
          }
        }
      ]
    },
    {
      "cell_type": "markdown",
      "source": [
        "#Feature Importance Evaluation\n",
        "\n",
        "When the accuracy scores are inspected, Decision Tree model seems to be the best performing model in both classes.  Confusion matrices of Decision Tree models confirm this statement. \n",
        "\n",
        "Due to it's high performance, Decision Tree model will be used to evaluate the effect of each biomechanical feature on the patient condition. "
      ],
      "metadata": {
        "id": "zFUhjqKEJx6j"
      }
    },
    {
      "cell_type": "code",
      "source": [
        "df1"
      ],
      "metadata": {
        "colab": {
          "base_uri": "https://localhost:8080/",
          "height": 269
        },
        "id": "9ROWMNog_UHx",
        "outputId": "f33c4027-5779-464b-cd3a-684b79c87322"
      },
      "execution_count": null,
      "outputs": [
        {
          "output_type": "execute_result",
          "data": {
            "text/plain": [
              "                    2 Class Model Name  Accuracy Score  r2 Score\n",
              "0                  Logistic Regression            0.79      0.41\n",
              "1                   K-Nearest Neighbor            0.71     -0.03\n",
              "2      Support Vector Machine (linear)            0.84      0.34\n",
              "3  Support Vector Machine (non-linear)            0.81      0.26\n",
              "4                          Naive Bayes            0.78      0.19\n",
              "5                        Decision Tree            0.87      0.19\n",
              "6                        Random Forest            0.86      0.26"
            ],
            "text/html": [
              "\n",
              "  <div id=\"df-485bc937-c20b-47a6-87e1-0a0e1fb83f89\">\n",
              "    <div class=\"colab-df-container\">\n",
              "      <div>\n",
              "<style scoped>\n",
              "    .dataframe tbody tr th:only-of-type {\n",
              "        vertical-align: middle;\n",
              "    }\n",
              "\n",
              "    .dataframe tbody tr th {\n",
              "        vertical-align: top;\n",
              "    }\n",
              "\n",
              "    .dataframe thead th {\n",
              "        text-align: right;\n",
              "    }\n",
              "</style>\n",
              "<table border=\"1\" class=\"dataframe\">\n",
              "  <thead>\n",
              "    <tr style=\"text-align: right;\">\n",
              "      <th></th>\n",
              "      <th>2 Class Model Name</th>\n",
              "      <th>Accuracy Score</th>\n",
              "      <th>r2 Score</th>\n",
              "    </tr>\n",
              "  </thead>\n",
              "  <tbody>\n",
              "    <tr>\n",
              "      <th>0</th>\n",
              "      <td>Logistic Regression</td>\n",
              "      <td>0.79</td>\n",
              "      <td>0.41</td>\n",
              "    </tr>\n",
              "    <tr>\n",
              "      <th>1</th>\n",
              "      <td>K-Nearest Neighbor</td>\n",
              "      <td>0.71</td>\n",
              "      <td>-0.03</td>\n",
              "    </tr>\n",
              "    <tr>\n",
              "      <th>2</th>\n",
              "      <td>Support Vector Machine (linear)</td>\n",
              "      <td>0.84</td>\n",
              "      <td>0.34</td>\n",
              "    </tr>\n",
              "    <tr>\n",
              "      <th>3</th>\n",
              "      <td>Support Vector Machine (non-linear)</td>\n",
              "      <td>0.81</td>\n",
              "      <td>0.26</td>\n",
              "    </tr>\n",
              "    <tr>\n",
              "      <th>4</th>\n",
              "      <td>Naive Bayes</td>\n",
              "      <td>0.78</td>\n",
              "      <td>0.19</td>\n",
              "    </tr>\n",
              "    <tr>\n",
              "      <th>5</th>\n",
              "      <td>Decision Tree</td>\n",
              "      <td>0.87</td>\n",
              "      <td>0.19</td>\n",
              "    </tr>\n",
              "    <tr>\n",
              "      <th>6</th>\n",
              "      <td>Random Forest</td>\n",
              "      <td>0.86</td>\n",
              "      <td>0.26</td>\n",
              "    </tr>\n",
              "  </tbody>\n",
              "</table>\n",
              "</div>\n",
              "      <button class=\"colab-df-convert\" onclick=\"convertToInteractive('df-485bc937-c20b-47a6-87e1-0a0e1fb83f89')\"\n",
              "              title=\"Convert this dataframe to an interactive table.\"\n",
              "              style=\"display:none;\">\n",
              "        \n",
              "  <svg xmlns=\"http://www.w3.org/2000/svg\" height=\"24px\"viewBox=\"0 0 24 24\"\n",
              "       width=\"24px\">\n",
              "    <path d=\"M0 0h24v24H0V0z\" fill=\"none\"/>\n",
              "    <path d=\"M18.56 5.44l.94 2.06.94-2.06 2.06-.94-2.06-.94-.94-2.06-.94 2.06-2.06.94zm-11 1L8.5 8.5l.94-2.06 2.06-.94-2.06-.94L8.5 2.5l-.94 2.06-2.06.94zm10 10l.94 2.06.94-2.06 2.06-.94-2.06-.94-.94-2.06-.94 2.06-2.06.94z\"/><path d=\"M17.41 7.96l-1.37-1.37c-.4-.4-.92-.59-1.43-.59-.52 0-1.04.2-1.43.59L10.3 9.45l-7.72 7.72c-.78.78-.78 2.05 0 2.83L4 21.41c.39.39.9.59 1.41.59.51 0 1.02-.2 1.41-.59l7.78-7.78 2.81-2.81c.8-.78.8-2.07 0-2.86zM5.41 20L4 18.59l7.72-7.72 1.47 1.35L5.41 20z\"/>\n",
              "  </svg>\n",
              "      </button>\n",
              "      \n",
              "  <style>\n",
              "    .colab-df-container {\n",
              "      display:flex;\n",
              "      flex-wrap:wrap;\n",
              "      gap: 12px;\n",
              "    }\n",
              "\n",
              "    .colab-df-convert {\n",
              "      background-color: #E8F0FE;\n",
              "      border: none;\n",
              "      border-radius: 50%;\n",
              "      cursor: pointer;\n",
              "      display: none;\n",
              "      fill: #1967D2;\n",
              "      height: 32px;\n",
              "      padding: 0 0 0 0;\n",
              "      width: 32px;\n",
              "    }\n",
              "\n",
              "    .colab-df-convert:hover {\n",
              "      background-color: #E2EBFA;\n",
              "      box-shadow: 0px 1px 2px rgba(60, 64, 67, 0.3), 0px 1px 3px 1px rgba(60, 64, 67, 0.15);\n",
              "      fill: #174EA6;\n",
              "    }\n",
              "\n",
              "    [theme=dark] .colab-df-convert {\n",
              "      background-color: #3B4455;\n",
              "      fill: #D2E3FC;\n",
              "    }\n",
              "\n",
              "    [theme=dark] .colab-df-convert:hover {\n",
              "      background-color: #434B5C;\n",
              "      box-shadow: 0px 1px 3px 1px rgba(0, 0, 0, 0.15);\n",
              "      filter: drop-shadow(0px 1px 2px rgba(0, 0, 0, 0.3));\n",
              "      fill: #FFFFFF;\n",
              "    }\n",
              "  </style>\n",
              "\n",
              "      <script>\n",
              "        const buttonEl =\n",
              "          document.querySelector('#df-485bc937-c20b-47a6-87e1-0a0e1fb83f89 button.colab-df-convert');\n",
              "        buttonEl.style.display =\n",
              "          google.colab.kernel.accessAllowed ? 'block' : 'none';\n",
              "\n",
              "        async function convertToInteractive(key) {\n",
              "          const element = document.querySelector('#df-485bc937-c20b-47a6-87e1-0a0e1fb83f89');\n",
              "          const dataTable =\n",
              "            await google.colab.kernel.invokeFunction('convertToInteractive',\n",
              "                                                     [key], {});\n",
              "          if (!dataTable) return;\n",
              "\n",
              "          const docLinkHtml = 'Like what you see? Visit the ' +\n",
              "            '<a target=\"_blank\" href=https://colab.research.google.com/notebooks/data_table.ipynb>data table notebook</a>'\n",
              "            + ' to learn more about interactive tables.';\n",
              "          element.innerHTML = '';\n",
              "          dataTable['output_type'] = 'display_data';\n",
              "          await google.colab.output.renderOutput(dataTable, element);\n",
              "          const docLink = document.createElement('div');\n",
              "          docLink.innerHTML = docLinkHtml;\n",
              "          element.appendChild(docLink);\n",
              "        }\n",
              "      </script>\n",
              "    </div>\n",
              "  </div>\n",
              "  "
            ]
          },
          "metadata": {},
          "execution_count": 30
        }
      ]
    },
    {
      "cell_type": "code",
      "source": [
        "df2"
      ],
      "metadata": {
        "colab": {
          "base_uri": "https://localhost:8080/",
          "height": 269
        },
        "id": "tbYWh2IqKWoJ",
        "outputId": "9468f01c-e19b-468b-ec06-fcfd5f7e0227"
      },
      "execution_count": null,
      "outputs": [
        {
          "output_type": "execute_result",
          "data": {
            "text/plain": [
              "                    3 Class Model Name  Accuracy Score\n",
              "0                  Logistic Regression            0.75\n",
              "1                   K-Nearest Neighbor            0.63\n",
              "2      Support Vector Machine (linear)            0.77\n",
              "3  Support Vector Machine (non-linear)            0.71\n",
              "4                          Naive Bayes            0.78\n",
              "5                        Decision Tree            0.88\n",
              "6                        Random Forest            0.79"
            ],
            "text/html": [
              "\n",
              "  <div id=\"df-da723c15-00c0-49cf-93df-31ed1228ddcb\">\n",
              "    <div class=\"colab-df-container\">\n",
              "      <div>\n",
              "<style scoped>\n",
              "    .dataframe tbody tr th:only-of-type {\n",
              "        vertical-align: middle;\n",
              "    }\n",
              "\n",
              "    .dataframe tbody tr th {\n",
              "        vertical-align: top;\n",
              "    }\n",
              "\n",
              "    .dataframe thead th {\n",
              "        text-align: right;\n",
              "    }\n",
              "</style>\n",
              "<table border=\"1\" class=\"dataframe\">\n",
              "  <thead>\n",
              "    <tr style=\"text-align: right;\">\n",
              "      <th></th>\n",
              "      <th>3 Class Model Name</th>\n",
              "      <th>Accuracy Score</th>\n",
              "    </tr>\n",
              "  </thead>\n",
              "  <tbody>\n",
              "    <tr>\n",
              "      <th>0</th>\n",
              "      <td>Logistic Regression</td>\n",
              "      <td>0.75</td>\n",
              "    </tr>\n",
              "    <tr>\n",
              "      <th>1</th>\n",
              "      <td>K-Nearest Neighbor</td>\n",
              "      <td>0.63</td>\n",
              "    </tr>\n",
              "    <tr>\n",
              "      <th>2</th>\n",
              "      <td>Support Vector Machine (linear)</td>\n",
              "      <td>0.77</td>\n",
              "    </tr>\n",
              "    <tr>\n",
              "      <th>3</th>\n",
              "      <td>Support Vector Machine (non-linear)</td>\n",
              "      <td>0.71</td>\n",
              "    </tr>\n",
              "    <tr>\n",
              "      <th>4</th>\n",
              "      <td>Naive Bayes</td>\n",
              "      <td>0.78</td>\n",
              "    </tr>\n",
              "    <tr>\n",
              "      <th>5</th>\n",
              "      <td>Decision Tree</td>\n",
              "      <td>0.88</td>\n",
              "    </tr>\n",
              "    <tr>\n",
              "      <th>6</th>\n",
              "      <td>Random Forest</td>\n",
              "      <td>0.79</td>\n",
              "    </tr>\n",
              "  </tbody>\n",
              "</table>\n",
              "</div>\n",
              "      <button class=\"colab-df-convert\" onclick=\"convertToInteractive('df-da723c15-00c0-49cf-93df-31ed1228ddcb')\"\n",
              "              title=\"Convert this dataframe to an interactive table.\"\n",
              "              style=\"display:none;\">\n",
              "        \n",
              "  <svg xmlns=\"http://www.w3.org/2000/svg\" height=\"24px\"viewBox=\"0 0 24 24\"\n",
              "       width=\"24px\">\n",
              "    <path d=\"M0 0h24v24H0V0z\" fill=\"none\"/>\n",
              "    <path d=\"M18.56 5.44l.94 2.06.94-2.06 2.06-.94-2.06-.94-.94-2.06-.94 2.06-2.06.94zm-11 1L8.5 8.5l.94-2.06 2.06-.94-2.06-.94L8.5 2.5l-.94 2.06-2.06.94zm10 10l.94 2.06.94-2.06 2.06-.94-2.06-.94-.94-2.06-.94 2.06-2.06.94z\"/><path d=\"M17.41 7.96l-1.37-1.37c-.4-.4-.92-.59-1.43-.59-.52 0-1.04.2-1.43.59L10.3 9.45l-7.72 7.72c-.78.78-.78 2.05 0 2.83L4 21.41c.39.39.9.59 1.41.59.51 0 1.02-.2 1.41-.59l7.78-7.78 2.81-2.81c.8-.78.8-2.07 0-2.86zM5.41 20L4 18.59l7.72-7.72 1.47 1.35L5.41 20z\"/>\n",
              "  </svg>\n",
              "      </button>\n",
              "      \n",
              "  <style>\n",
              "    .colab-df-container {\n",
              "      display:flex;\n",
              "      flex-wrap:wrap;\n",
              "      gap: 12px;\n",
              "    }\n",
              "\n",
              "    .colab-df-convert {\n",
              "      background-color: #E8F0FE;\n",
              "      border: none;\n",
              "      border-radius: 50%;\n",
              "      cursor: pointer;\n",
              "      display: none;\n",
              "      fill: #1967D2;\n",
              "      height: 32px;\n",
              "      padding: 0 0 0 0;\n",
              "      width: 32px;\n",
              "    }\n",
              "\n",
              "    .colab-df-convert:hover {\n",
              "      background-color: #E2EBFA;\n",
              "      box-shadow: 0px 1px 2px rgba(60, 64, 67, 0.3), 0px 1px 3px 1px rgba(60, 64, 67, 0.15);\n",
              "      fill: #174EA6;\n",
              "    }\n",
              "\n",
              "    [theme=dark] .colab-df-convert {\n",
              "      background-color: #3B4455;\n",
              "      fill: #D2E3FC;\n",
              "    }\n",
              "\n",
              "    [theme=dark] .colab-df-convert:hover {\n",
              "      background-color: #434B5C;\n",
              "      box-shadow: 0px 1px 3px 1px rgba(0, 0, 0, 0.15);\n",
              "      filter: drop-shadow(0px 1px 2px rgba(0, 0, 0, 0.3));\n",
              "      fill: #FFFFFF;\n",
              "    }\n",
              "  </style>\n",
              "\n",
              "      <script>\n",
              "        const buttonEl =\n",
              "          document.querySelector('#df-da723c15-00c0-49cf-93df-31ed1228ddcb button.colab-df-convert');\n",
              "        buttonEl.style.display =\n",
              "          google.colab.kernel.accessAllowed ? 'block' : 'none';\n",
              "\n",
              "        async function convertToInteractive(key) {\n",
              "          const element = document.querySelector('#df-da723c15-00c0-49cf-93df-31ed1228ddcb');\n",
              "          const dataTable =\n",
              "            await google.colab.kernel.invokeFunction('convertToInteractive',\n",
              "                                                     [key], {});\n",
              "          if (!dataTable) return;\n",
              "\n",
              "          const docLinkHtml = 'Like what you see? Visit the ' +\n",
              "            '<a target=\"_blank\" href=https://colab.research.google.com/notebooks/data_table.ipynb>data table notebook</a>'\n",
              "            + ' to learn more about interactive tables.';\n",
              "          element.innerHTML = '';\n",
              "          dataTable['output_type'] = 'display_data';\n",
              "          await google.colab.output.renderOutput(dataTable, element);\n",
              "          const docLink = document.createElement('div');\n",
              "          docLink.innerHTML = docLinkHtml;\n",
              "          element.appendChild(docLink);\n",
              "        }\n",
              "      </script>\n",
              "    </div>\n",
              "  </div>\n",
              "  "
            ]
          },
          "metadata": {},
          "execution_count": 31
        }
      ]
    },
    {
      "cell_type": "markdown",
      "source": [
        "##Feature Importance Scores\n",
        "\n",
        "\n",
        "We can calculate the importance of features in classification models using *classifier.feature_importances_* function"
      ],
      "metadata": {
        "id": "7yMlv0DqyQMJ"
      }
    },
    {
      "cell_type": "code",
      "source": [
        "biomechanical_features = []\n",
        "for i in class3.columns[:-1]:\n",
        "\tbiomechanical_features.append(i)\n",
        "\n",
        "importance_2class = dt_classifier_2c.feature_importances_\n",
        "\n",
        "# plot feature importance\n",
        "plt.bar(biomechanical_features, importance_2class)\n",
        "plt.title(\"Biomechanical Feature Importance / Decision Tree Classification / 2 Class Data\")\n",
        "plt.ylabel(\"Importance Score\")\n",
        "plt.xlabel(\"Biomechanical Feature\")\n",
        "plt.xticks(rotation = 75)\n",
        "\n",
        "plt.savefig(\"Feature Importance_2Class.png\", bbox_inches = \"tight\",dpi=300) "
      ],
      "metadata": {
        "id": "KGwv947aKi9B",
        "colab": {
          "base_uri": "https://localhost:8080/",
          "height": 410
        },
        "outputId": "e6f45b4b-c83a-41d0-d0a7-3e3e2d51ab38"
      },
      "execution_count": 52,
      "outputs": [
        {
          "output_type": "display_data",
          "data": {
            "text/plain": [
              "<Figure size 432x288 with 1 Axes>"
            ],
            "image/png": "[encoded data removed]"
          },
          "metadata": {
            "needs_background": "light"
          }
        }
      ]
    },
    {
      "cell_type": "code",
      "source": [
        "importance_3class = dt_classifier_3c.feature_importances_\n",
        "\n",
        "plt.bar(biomechanical_features, importance_3class,color=\"green\")\n",
        "plt.title(\"Biomechanical Feature Importance / Decision Tree Classification / 3 Class Data\")\n",
        "plt.ylabel(\"Importance Score\")\n",
        "plt.xlabel(\"Biomechanical Feature\")\n",
        "plt.xticks(rotation = 75)\n",
        "plt.savefig(\"Feature Importance_3Class.png\",bbox_inches = \"tight\", dpi=300) \n",
        "plt.show()"
      ],
      "metadata": {
        "colab": {
          "base_uri": "https://localhost:8080/",
          "height": 410
        },
        "id": "pT92avmrvxJl",
        "outputId": "3189e48d-b915-46a7-ab29-f1cb3df37345"
      },
      "execution_count": 54,
      "outputs": [
        {
          "output_type": "display_data",
          "data": {
            "text/plain": [
              "<Figure size 432x288 with 1 Axes>"
            ],
            "image/png": "[encoded data removed]"
          },
          "metadata": {
            "needs_background": "light"
          }
        }
      ]
    },
    {
      "cell_type": "markdown",
      "source": [
        "#Discussion and Conclusion"
      ],
      "metadata": {
        "id": "uZsIkeK5QUDC"
      }
    },
    {
      "cell_type": "markdown",
      "source": [
        "In this study six different classification models were built to predict the vertebral column condition of a given patient based on biomechanical measurements.  Decision Tree Classification model showed the highest accuracy in predicting both Normal/Abnormal classification and Normal/Disc Hernia/Spondylolisthesis classification of the patient.  \n",
        "\n",
        "Furthermore, the effect of each biomechanical feature was inspected.  According to our model degree of spondylolisthesis feature, which is the measurement of the slippage of vertebra over the body beneath it, is the most prominent factor in determining the vertebral column condition.  All the other measurements have very similar effect.  \n"
      ],
      "metadata": {
        "id": "Tyf_LvD2Q2-M"
      }
    }
  ]
}